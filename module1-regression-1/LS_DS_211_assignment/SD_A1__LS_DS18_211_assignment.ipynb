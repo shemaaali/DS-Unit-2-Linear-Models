{
  "nbformat": 4,
  "nbformat_minor": 0,
  "metadata": {
    "kernelspec": {
      "display_name": "Python 3",
      "language": "python",
      "name": "python3"
    },
    "language_info": {
      "codemirror_mode": {
        "name": "ipython",
        "version": 3
      },
      "file_extension": ".py",
      "mimetype": "text/x-python",
      "name": "python",
      "nbconvert_exporter": "python",
      "pygments_lexer": "ipython3",
      "version": "3.7.3"
    },
    "colab": {
      "name": "SD_A1_ LS_DS18_211_assignment.ipynb",
      "provenance": [],
      "include_colab_link": true
    }
  },
  "cells": [
    {
      "cell_type": "markdown",
      "metadata": {
        "id": "view-in-github",
        "colab_type": "text"
      },
      "source": [
        "<a href=\"https://colab.research.google.com/github/shemaaali/DS-Unit-2-Linear-Models/blob/master/module1-regression-1/LS_DS_211_assignment/SD_A1__LS_DS18_211_assignment.ipynb\" target=\"_parent\"><img src=\"https://colab.research.google.com/assets/colab-badge.svg\" alt=\"Open In Colab\"/></a>"
      ]
    },
    {
      "cell_type": "markdown",
      "metadata": {
        "id": "btR-GVQ5sgyf",
        "colab_type": "text"
      },
      "source": [
        "Lambda School Data Science\n",
        "\n",
        "*Unit 2, Sprint 1, Module 1*\n",
        "\n",
        "---"
      ]
    },
    {
      "cell_type": "markdown",
      "metadata": {
        "colab_type": "text",
        "id": "7IXUfiQ2UKj6"
      },
      "source": [
        "# Regression 1\n",
        "\n",
        "## Assignment\n",
        "\n",
        "You'll use another **New York City** real estate dataset. \n",
        "\n",
        "But now you'll **predict how much it costs to rent an apartment**, instead of how much it costs to buy a condo.\n",
        "\n",
        "The data comes from renthop.com, an apartment listing website.\n",
        "\n",
        "- [ ] Look at the data. Choose a feature, and plot its relationship with the target.\n",
        "- [ ] Use scikit-learn for linear regression with one feature. You can follow the [5-step process from Jake VanderPlas](https://jakevdp.github.io/PythonDataScienceHandbook/05.02-introducing-scikit-learn.html#Basics-of-the-API).\n",
        "- [ ] Define a function to make new predictions and explain the model coefficient.\n",
        "- [ ] Organize and comment your code.\n",
        "\n",
        "> [Do Not Copy-Paste.](https://docs.google.com/document/d/1ubOw9B3Hfip27hF2ZFnW3a3z9xAgrUDRReOEo-FHCVs/edit) You must type each of these exercises in, manually. If you copy and paste, you might as well not even do them. The point of these exercises is to train your hands, your brain, and your mind in how to read, write, and see code. If you copy-paste, you are cheating yourself out of the effectiveness of the lessons.\n",
        "\n",
        "If your **Plotly** visualizations aren't working:\n",
        "- You must have JavaScript enabled in your browser\n",
        "- You probably want to use Chrome or Firefox\n",
        "- You may need to turn off ad blockers\n",
        "- [If you're using Jupyter Lab locally, you need to install some \"extensions\"](https://plot.ly/python/getting-started/#jupyterlab-support-python-35)\n",
        "\n",
        "## Stretch Goals\n",
        "- [ ] Do linear regression with two or more features.\n",
        "- [ ] Read [The Discovery of Statistical Regression](https://priceonomics.com/the-discovery-of-statistical-regression/)\n",
        "- [ ] Read [_An Introduction to Statistical Learning_](http://faculty.marshall.usc.edu/gareth-james/ISL/ISLR%20Seventh%20Printing.pdf), Chapter 2.1: What Is Statistical Learning?"
      ]
    },
    {
      "cell_type": "code",
      "metadata": {
        "colab_type": "code",
        "id": "o9eSnDYhUGD7",
        "colab": {}
      },
      "source": [
        "import sys\n",
        " \n",
        "# If you're on Colab:\n",
        "if 'google.colab' in sys.modules:\n",
        "    DATA_PATH = 'https://raw.githubusercontent.com/LambdaSchool/DS-Unit-2-Applied-Modeling/master/data/'\n",
        " \n",
        "# If you're working locally:\n",
        "else:\n",
        "    DATA_PATH = '../data/'\n",
        "    \n",
        "# Ignore this Numpy warning when using Plotly Express:\n",
        "# FutureWarning: Method .ptp is deprecated and will be removed in a future version. Use numpy.ptp instead.\n",
        "import warnings\n",
        "warnings.filterwarnings(action='ignore', category=FutureWarning, module='numpy')"
      ],
      "execution_count": 338,
      "outputs": []
    },
    {
      "cell_type": "code",
      "metadata": {
        "colab_type": "code",
        "id": "4S2wXSrFV_g4",
        "colab": {}
      },
      "source": [
        "# Read New York City apartment rental listing data\n",
        "import pandas as pd\n",
        "df = pd.read_csv(DATA_PATH+'apartments/renthop-nyc.csv')\n",
        "assert df.shape == (49352, 34)"
      ],
      "execution_count": 339,
      "outputs": []
    },
    {
      "cell_type": "code",
      "metadata": {
        "id": "_T1iM99csgyt",
        "colab_type": "code",
        "colab": {
          "base_uri": "https://localhost:8080/",
          "height": 534
        },
        "outputId": "40710956-faf0-43ee-81f0-dd38cf52d965"
      },
      "source": [
        "# Remove outliers: \n",
        "# the most extreme 1% prices,\n",
        "# the most extreme .1% latitudes, &\n",
        "# the most extreme .1% longitudes\n",
        "df = df[(df['price'] >= 1375) & (df['price'] <= 15500) & \n",
        "        (df['latitude'] >=40.57) & (df['latitude'] < 40.99) &\n",
        "        (df['longitude'] >= -74.1) & (df['longitude'] <= -73.38)]\n",
        "print(df.shape)\n",
        "df.head()"
      ],
      "execution_count": 340,
      "outputs": [
        {
          "output_type": "stream",
          "text": [
            "(48818, 34)\n"
          ],
          "name": "stdout"
        },
        {
          "output_type": "execute_result",
          "data": {
            "text/html": [
              "<div>\n",
              "<style scoped>\n",
              "    .dataframe tbody tr th:only-of-type {\n",
              "        vertical-align: middle;\n",
              "    }\n",
              "\n",
              "    .dataframe tbody tr th {\n",
              "        vertical-align: top;\n",
              "    }\n",
              "\n",
              "    .dataframe thead th {\n",
              "        text-align: right;\n",
              "    }\n",
              "</style>\n",
              "<table border=\"1\" class=\"dataframe\">\n",
              "  <thead>\n",
              "    <tr style=\"text-align: right;\">\n",
              "      <th></th>\n",
              "      <th>bathrooms</th>\n",
              "      <th>bedrooms</th>\n",
              "      <th>created</th>\n",
              "      <th>description</th>\n",
              "      <th>display_address</th>\n",
              "      <th>latitude</th>\n",
              "      <th>longitude</th>\n",
              "      <th>price</th>\n",
              "      <th>street_address</th>\n",
              "      <th>interest_level</th>\n",
              "      <th>elevator</th>\n",
              "      <th>cats_allowed</th>\n",
              "      <th>hardwood_floors</th>\n",
              "      <th>dogs_allowed</th>\n",
              "      <th>doorman</th>\n",
              "      <th>dishwasher</th>\n",
              "      <th>no_fee</th>\n",
              "      <th>laundry_in_building</th>\n",
              "      <th>fitness_center</th>\n",
              "      <th>pre-war</th>\n",
              "      <th>laundry_in_unit</th>\n",
              "      <th>roof_deck</th>\n",
              "      <th>outdoor_space</th>\n",
              "      <th>dining_room</th>\n",
              "      <th>high_speed_internet</th>\n",
              "      <th>balcony</th>\n",
              "      <th>swimming_pool</th>\n",
              "      <th>new_construction</th>\n",
              "      <th>terrace</th>\n",
              "      <th>exclusive</th>\n",
              "      <th>loft</th>\n",
              "      <th>garden_patio</th>\n",
              "      <th>wheelchair_access</th>\n",
              "      <th>common_outdoor_space</th>\n",
              "    </tr>\n",
              "  </thead>\n",
              "  <tbody>\n",
              "    <tr>\n",
              "      <th>0</th>\n",
              "      <td>2</td>\n",
              "      <td>3</td>\n",
              "      <td>2016-06-24 07:54:24</td>\n",
              "      <td>A Brand New 3 Bedroom 1.5 bath ApartmentEnjoy ...</td>\n",
              "      <td>Metropolitan Avenue</td>\n",
              "      <td>41</td>\n",
              "      <td>-74</td>\n",
              "      <td>3000</td>\n",
              "      <td>792 Metropolitan Avenue</td>\n",
              "      <td>medium</td>\n",
              "      <td>0</td>\n",
              "      <td>0</td>\n",
              "      <td>0</td>\n",
              "      <td>0</td>\n",
              "      <td>0</td>\n",
              "      <td>0</td>\n",
              "      <td>0</td>\n",
              "      <td>0</td>\n",
              "      <td>0</td>\n",
              "      <td>0</td>\n",
              "      <td>0</td>\n",
              "      <td>0</td>\n",
              "      <td>0</td>\n",
              "      <td>0</td>\n",
              "      <td>0</td>\n",
              "      <td>0</td>\n",
              "      <td>0</td>\n",
              "      <td>0</td>\n",
              "      <td>0</td>\n",
              "      <td>0</td>\n",
              "      <td>0</td>\n",
              "      <td>0</td>\n",
              "      <td>0</td>\n",
              "      <td>0</td>\n",
              "    </tr>\n",
              "    <tr>\n",
              "      <th>1</th>\n",
              "      <td>1</td>\n",
              "      <td>2</td>\n",
              "      <td>2016-06-12 12:19:27</td>\n",
              "      <td></td>\n",
              "      <td>Columbus Avenue</td>\n",
              "      <td>41</td>\n",
              "      <td>-74</td>\n",
              "      <td>5465</td>\n",
              "      <td>808 Columbus Avenue</td>\n",
              "      <td>low</td>\n",
              "      <td>1</td>\n",
              "      <td>1</td>\n",
              "      <td>0</td>\n",
              "      <td>1</td>\n",
              "      <td>1</td>\n",
              "      <td>0</td>\n",
              "      <td>0</td>\n",
              "      <td>0</td>\n",
              "      <td>1</td>\n",
              "      <td>0</td>\n",
              "      <td>0</td>\n",
              "      <td>0</td>\n",
              "      <td>0</td>\n",
              "      <td>0</td>\n",
              "      <td>0</td>\n",
              "      <td>0</td>\n",
              "      <td>0</td>\n",
              "      <td>0</td>\n",
              "      <td>0</td>\n",
              "      <td>0</td>\n",
              "      <td>0</td>\n",
              "      <td>0</td>\n",
              "      <td>0</td>\n",
              "      <td>0</td>\n",
              "    </tr>\n",
              "    <tr>\n",
              "      <th>2</th>\n",
              "      <td>1</td>\n",
              "      <td>1</td>\n",
              "      <td>2016-04-17 03:26:41</td>\n",
              "      <td>Top Top West Village location, beautiful Pre-w...</td>\n",
              "      <td>W 13 Street</td>\n",
              "      <td>41</td>\n",
              "      <td>-74</td>\n",
              "      <td>2850</td>\n",
              "      <td>241 W 13 Street</td>\n",
              "      <td>high</td>\n",
              "      <td>0</td>\n",
              "      <td>0</td>\n",
              "      <td>1</td>\n",
              "      <td>0</td>\n",
              "      <td>0</td>\n",
              "      <td>1</td>\n",
              "      <td>0</td>\n",
              "      <td>1</td>\n",
              "      <td>0</td>\n",
              "      <td>0</td>\n",
              "      <td>0</td>\n",
              "      <td>0</td>\n",
              "      <td>0</td>\n",
              "      <td>0</td>\n",
              "      <td>0</td>\n",
              "      <td>0</td>\n",
              "      <td>0</td>\n",
              "      <td>0</td>\n",
              "      <td>0</td>\n",
              "      <td>0</td>\n",
              "      <td>0</td>\n",
              "      <td>0</td>\n",
              "      <td>0</td>\n",
              "      <td>0</td>\n",
              "    </tr>\n",
              "    <tr>\n",
              "      <th>3</th>\n",
              "      <td>1</td>\n",
              "      <td>1</td>\n",
              "      <td>2016-04-18 02:22:02</td>\n",
              "      <td>Building Amenities - Garage - Garden - fitness...</td>\n",
              "      <td>East 49th Street</td>\n",
              "      <td>41</td>\n",
              "      <td>-74</td>\n",
              "      <td>3275</td>\n",
              "      <td>333 East 49th Street</td>\n",
              "      <td>low</td>\n",
              "      <td>0</td>\n",
              "      <td>0</td>\n",
              "      <td>1</td>\n",
              "      <td>0</td>\n",
              "      <td>0</td>\n",
              "      <td>0</td>\n",
              "      <td>1</td>\n",
              "      <td>0</td>\n",
              "      <td>0</td>\n",
              "      <td>0</td>\n",
              "      <td>0</td>\n",
              "      <td>0</td>\n",
              "      <td>0</td>\n",
              "      <td>0</td>\n",
              "      <td>0</td>\n",
              "      <td>0</td>\n",
              "      <td>0</td>\n",
              "      <td>0</td>\n",
              "      <td>0</td>\n",
              "      <td>0</td>\n",
              "      <td>0</td>\n",
              "      <td>0</td>\n",
              "      <td>0</td>\n",
              "      <td>0</td>\n",
              "    </tr>\n",
              "    <tr>\n",
              "      <th>4</th>\n",
              "      <td>1</td>\n",
              "      <td>4</td>\n",
              "      <td>2016-04-28 01:32:41</td>\n",
              "      <td>Beautifully renovated 3 bedroom flex 4 bedroom...</td>\n",
              "      <td>West 143rd Street</td>\n",
              "      <td>41</td>\n",
              "      <td>-74</td>\n",
              "      <td>3350</td>\n",
              "      <td>500 West 143rd Street</td>\n",
              "      <td>low</td>\n",
              "      <td>0</td>\n",
              "      <td>0</td>\n",
              "      <td>0</td>\n",
              "      <td>0</td>\n",
              "      <td>0</td>\n",
              "      <td>0</td>\n",
              "      <td>0</td>\n",
              "      <td>0</td>\n",
              "      <td>0</td>\n",
              "      <td>1</td>\n",
              "      <td>0</td>\n",
              "      <td>0</td>\n",
              "      <td>0</td>\n",
              "      <td>0</td>\n",
              "      <td>0</td>\n",
              "      <td>0</td>\n",
              "      <td>0</td>\n",
              "      <td>0</td>\n",
              "      <td>0</td>\n",
              "      <td>0</td>\n",
              "      <td>0</td>\n",
              "      <td>0</td>\n",
              "      <td>0</td>\n",
              "      <td>0</td>\n",
              "    </tr>\n",
              "  </tbody>\n",
              "</table>\n",
              "</div>"
            ],
            "text/plain": [
              "   bathrooms  bedrooms  ... wheelchair_access common_outdoor_space\n",
              "0          2         3  ...                 0                    0\n",
              "1          1         2  ...                 0                    0\n",
              "2          1         1  ...                 0                    0\n",
              "3          1         1  ...                 0                    0\n",
              "4          1         4  ...                 0                    0\n",
              "\n",
              "[5 rows x 34 columns]"
            ]
          },
          "metadata": {
            "tags": []
          },
          "execution_count": 340
        }
      ]
    },
    {
      "cell_type": "code",
      "metadata": {
        "id": "tycwqGMoVgtu",
        "colab_type": "code",
        "colab": {
          "base_uri": "https://localhost:8080/",
          "height": 565
        },
        "outputId": "e8976f3d-6c1b-42bd-ebec-ec967506bfce"
      },
      "source": [
        "# Wrangle data\n",
        "df = pd.read_csv(DATA_PATH+'apartments/renthop-nyc.csv', \n",
        "                 parse_dates=['created'],\n",
        "                 index_col='created')\n",
        "print(df.shape)\n",
        "df.head()"
      ],
      "execution_count": 341,
      "outputs": [
        {
          "output_type": "stream",
          "text": [
            "(49352, 33)\n"
          ],
          "name": "stdout"
        },
        {
          "output_type": "execute_result",
          "data": {
            "text/html": [
              "<div>\n",
              "<style scoped>\n",
              "    .dataframe tbody tr th:only-of-type {\n",
              "        vertical-align: middle;\n",
              "    }\n",
              "\n",
              "    .dataframe tbody tr th {\n",
              "        vertical-align: top;\n",
              "    }\n",
              "\n",
              "    .dataframe thead th {\n",
              "        text-align: right;\n",
              "    }\n",
              "</style>\n",
              "<table border=\"1\" class=\"dataframe\">\n",
              "  <thead>\n",
              "    <tr style=\"text-align: right;\">\n",
              "      <th></th>\n",
              "      <th>bathrooms</th>\n",
              "      <th>bedrooms</th>\n",
              "      <th>description</th>\n",
              "      <th>display_address</th>\n",
              "      <th>latitude</th>\n",
              "      <th>longitude</th>\n",
              "      <th>price</th>\n",
              "      <th>street_address</th>\n",
              "      <th>interest_level</th>\n",
              "      <th>elevator</th>\n",
              "      <th>cats_allowed</th>\n",
              "      <th>hardwood_floors</th>\n",
              "      <th>dogs_allowed</th>\n",
              "      <th>doorman</th>\n",
              "      <th>dishwasher</th>\n",
              "      <th>no_fee</th>\n",
              "      <th>laundry_in_building</th>\n",
              "      <th>fitness_center</th>\n",
              "      <th>pre-war</th>\n",
              "      <th>laundry_in_unit</th>\n",
              "      <th>roof_deck</th>\n",
              "      <th>outdoor_space</th>\n",
              "      <th>dining_room</th>\n",
              "      <th>high_speed_internet</th>\n",
              "      <th>balcony</th>\n",
              "      <th>swimming_pool</th>\n",
              "      <th>new_construction</th>\n",
              "      <th>terrace</th>\n",
              "      <th>exclusive</th>\n",
              "      <th>loft</th>\n",
              "      <th>garden_patio</th>\n",
              "      <th>wheelchair_access</th>\n",
              "      <th>common_outdoor_space</th>\n",
              "    </tr>\n",
              "    <tr>\n",
              "      <th>created</th>\n",
              "      <th></th>\n",
              "      <th></th>\n",
              "      <th></th>\n",
              "      <th></th>\n",
              "      <th></th>\n",
              "      <th></th>\n",
              "      <th></th>\n",
              "      <th></th>\n",
              "      <th></th>\n",
              "      <th></th>\n",
              "      <th></th>\n",
              "      <th></th>\n",
              "      <th></th>\n",
              "      <th></th>\n",
              "      <th></th>\n",
              "      <th></th>\n",
              "      <th></th>\n",
              "      <th></th>\n",
              "      <th></th>\n",
              "      <th></th>\n",
              "      <th></th>\n",
              "      <th></th>\n",
              "      <th></th>\n",
              "      <th></th>\n",
              "      <th></th>\n",
              "      <th></th>\n",
              "      <th></th>\n",
              "      <th></th>\n",
              "      <th></th>\n",
              "      <th></th>\n",
              "      <th></th>\n",
              "      <th></th>\n",
              "      <th></th>\n",
              "    </tr>\n",
              "  </thead>\n",
              "  <tbody>\n",
              "    <tr>\n",
              "      <th>2016-06-24 07:54:24</th>\n",
              "      <td>2</td>\n",
              "      <td>3</td>\n",
              "      <td>A Brand New 3 Bedroom 1.5 bath ApartmentEnjoy ...</td>\n",
              "      <td>Metropolitan Avenue</td>\n",
              "      <td>41</td>\n",
              "      <td>-74</td>\n",
              "      <td>3000</td>\n",
              "      <td>792 Metropolitan Avenue</td>\n",
              "      <td>medium</td>\n",
              "      <td>0</td>\n",
              "      <td>0</td>\n",
              "      <td>0</td>\n",
              "      <td>0</td>\n",
              "      <td>0</td>\n",
              "      <td>0</td>\n",
              "      <td>0</td>\n",
              "      <td>0</td>\n",
              "      <td>0</td>\n",
              "      <td>0</td>\n",
              "      <td>0</td>\n",
              "      <td>0</td>\n",
              "      <td>0</td>\n",
              "      <td>0</td>\n",
              "      <td>0</td>\n",
              "      <td>0</td>\n",
              "      <td>0</td>\n",
              "      <td>0</td>\n",
              "      <td>0</td>\n",
              "      <td>0</td>\n",
              "      <td>0</td>\n",
              "      <td>0</td>\n",
              "      <td>0</td>\n",
              "      <td>0</td>\n",
              "    </tr>\n",
              "    <tr>\n",
              "      <th>2016-06-12 12:19:27</th>\n",
              "      <td>1</td>\n",
              "      <td>2</td>\n",
              "      <td></td>\n",
              "      <td>Columbus Avenue</td>\n",
              "      <td>41</td>\n",
              "      <td>-74</td>\n",
              "      <td>5465</td>\n",
              "      <td>808 Columbus Avenue</td>\n",
              "      <td>low</td>\n",
              "      <td>1</td>\n",
              "      <td>1</td>\n",
              "      <td>0</td>\n",
              "      <td>1</td>\n",
              "      <td>1</td>\n",
              "      <td>0</td>\n",
              "      <td>0</td>\n",
              "      <td>0</td>\n",
              "      <td>1</td>\n",
              "      <td>0</td>\n",
              "      <td>0</td>\n",
              "      <td>0</td>\n",
              "      <td>0</td>\n",
              "      <td>0</td>\n",
              "      <td>0</td>\n",
              "      <td>0</td>\n",
              "      <td>0</td>\n",
              "      <td>0</td>\n",
              "      <td>0</td>\n",
              "      <td>0</td>\n",
              "      <td>0</td>\n",
              "      <td>0</td>\n",
              "      <td>0</td>\n",
              "      <td>0</td>\n",
              "    </tr>\n",
              "    <tr>\n",
              "      <th>2016-04-17 03:26:41</th>\n",
              "      <td>1</td>\n",
              "      <td>1</td>\n",
              "      <td>Top Top West Village location, beautiful Pre-w...</td>\n",
              "      <td>W 13 Street</td>\n",
              "      <td>41</td>\n",
              "      <td>-74</td>\n",
              "      <td>2850</td>\n",
              "      <td>241 W 13 Street</td>\n",
              "      <td>high</td>\n",
              "      <td>0</td>\n",
              "      <td>0</td>\n",
              "      <td>1</td>\n",
              "      <td>0</td>\n",
              "      <td>0</td>\n",
              "      <td>1</td>\n",
              "      <td>0</td>\n",
              "      <td>1</td>\n",
              "      <td>0</td>\n",
              "      <td>0</td>\n",
              "      <td>0</td>\n",
              "      <td>0</td>\n",
              "      <td>0</td>\n",
              "      <td>0</td>\n",
              "      <td>0</td>\n",
              "      <td>0</td>\n",
              "      <td>0</td>\n",
              "      <td>0</td>\n",
              "      <td>0</td>\n",
              "      <td>0</td>\n",
              "      <td>0</td>\n",
              "      <td>0</td>\n",
              "      <td>0</td>\n",
              "      <td>0</td>\n",
              "    </tr>\n",
              "    <tr>\n",
              "      <th>2016-04-18 02:22:02</th>\n",
              "      <td>1</td>\n",
              "      <td>1</td>\n",
              "      <td>Building Amenities - Garage - Garden - fitness...</td>\n",
              "      <td>East 49th Street</td>\n",
              "      <td>41</td>\n",
              "      <td>-74</td>\n",
              "      <td>3275</td>\n",
              "      <td>333 East 49th Street</td>\n",
              "      <td>low</td>\n",
              "      <td>0</td>\n",
              "      <td>0</td>\n",
              "      <td>1</td>\n",
              "      <td>0</td>\n",
              "      <td>0</td>\n",
              "      <td>0</td>\n",
              "      <td>1</td>\n",
              "      <td>0</td>\n",
              "      <td>0</td>\n",
              "      <td>0</td>\n",
              "      <td>0</td>\n",
              "      <td>0</td>\n",
              "      <td>0</td>\n",
              "      <td>0</td>\n",
              "      <td>0</td>\n",
              "      <td>0</td>\n",
              "      <td>0</td>\n",
              "      <td>0</td>\n",
              "      <td>0</td>\n",
              "      <td>0</td>\n",
              "      <td>0</td>\n",
              "      <td>0</td>\n",
              "      <td>0</td>\n",
              "      <td>0</td>\n",
              "    </tr>\n",
              "    <tr>\n",
              "      <th>2016-04-28 01:32:41</th>\n",
              "      <td>1</td>\n",
              "      <td>4</td>\n",
              "      <td>Beautifully renovated 3 bedroom flex 4 bedroom...</td>\n",
              "      <td>West 143rd Street</td>\n",
              "      <td>41</td>\n",
              "      <td>-74</td>\n",
              "      <td>3350</td>\n",
              "      <td>500 West 143rd Street</td>\n",
              "      <td>low</td>\n",
              "      <td>0</td>\n",
              "      <td>0</td>\n",
              "      <td>0</td>\n",
              "      <td>0</td>\n",
              "      <td>0</td>\n",
              "      <td>0</td>\n",
              "      <td>0</td>\n",
              "      <td>0</td>\n",
              "      <td>0</td>\n",
              "      <td>1</td>\n",
              "      <td>0</td>\n",
              "      <td>0</td>\n",
              "      <td>0</td>\n",
              "      <td>0</td>\n",
              "      <td>0</td>\n",
              "      <td>0</td>\n",
              "      <td>0</td>\n",
              "      <td>0</td>\n",
              "      <td>0</td>\n",
              "      <td>0</td>\n",
              "      <td>0</td>\n",
              "      <td>0</td>\n",
              "      <td>0</td>\n",
              "      <td>0</td>\n",
              "    </tr>\n",
              "  </tbody>\n",
              "</table>\n",
              "</div>"
            ],
            "text/plain": [
              "                     bathrooms  ...  common_outdoor_space\n",
              "created                         ...                      \n",
              "2016-06-24 07:54:24          2  ...                     0\n",
              "2016-06-12 12:19:27          1  ...                     0\n",
              "2016-04-17 03:26:41          1  ...                     0\n",
              "2016-04-18 02:22:02          1  ...                     0\n",
              "2016-04-28 01:32:41          1  ...                     0\n",
              "\n",
              "[5 rows x 33 columns]"
            ]
          },
          "metadata": {
            "tags": []
          },
          "execution_count": 341
        }
      ]
    },
    {
      "cell_type": "code",
      "metadata": {
        "id": "9qjI4YtwacdM",
        "colab_type": "code",
        "colab": {
          "base_uri": "https://localhost:8080/",
          "height": 711
        },
        "outputId": "0997afa5-9a70-44f4-cbab-ec9eb65a344b"
      },
      "source": [
        "df.info()"
      ],
      "execution_count": 342,
      "outputs": [
        {
          "output_type": "stream",
          "text": [
            "<class 'pandas.core.frame.DataFrame'>\n",
            "DatetimeIndex: 49352 entries, 2016-06-24 07:54:24 to 2016-04-12 02:48:07\n",
            "Data columns (total 33 columns):\n",
            " #   Column                Non-Null Count  Dtype  \n",
            "---  ------                --------------  -----  \n",
            " 0   bathrooms             49352 non-null  float64\n",
            " 1   bedrooms              49352 non-null  int64  \n",
            " 2   description           47906 non-null  object \n",
            " 3   display_address       49217 non-null  object \n",
            " 4   latitude              49352 non-null  float64\n",
            " 5   longitude             49352 non-null  float64\n",
            " 6   price                 49352 non-null  int64  \n",
            " 7   street_address        49342 non-null  object \n",
            " 8   interest_level        49352 non-null  object \n",
            " 9   elevator              49352 non-null  int64  \n",
            " 10  cats_allowed          49352 non-null  int64  \n",
            " 11  hardwood_floors       49352 non-null  int64  \n",
            " 12  dogs_allowed          49352 non-null  int64  \n",
            " 13  doorman               49352 non-null  int64  \n",
            " 14  dishwasher            49352 non-null  int64  \n",
            " 15  no_fee                49352 non-null  int64  \n",
            " 16  laundry_in_building   49352 non-null  int64  \n",
            " 17  fitness_center        49352 non-null  int64  \n",
            " 18  pre-war               49352 non-null  int64  \n",
            " 19  laundry_in_unit       49352 non-null  int64  \n",
            " 20  roof_deck             49352 non-null  int64  \n",
            " 21  outdoor_space         49352 non-null  int64  \n",
            " 22  dining_room           49352 non-null  int64  \n",
            " 23  high_speed_internet   49352 non-null  int64  \n",
            " 24  balcony               49352 non-null  int64  \n",
            " 25  swimming_pool         49352 non-null  int64  \n",
            " 26  new_construction      49352 non-null  int64  \n",
            " 27  terrace               49352 non-null  int64  \n",
            " 28  exclusive             49352 non-null  int64  \n",
            " 29  loft                  49352 non-null  int64  \n",
            " 30  garden_patio          49352 non-null  int64  \n",
            " 31  wheelchair_access     49352 non-null  int64  \n",
            " 32  common_outdoor_space  49352 non-null  int64  \n",
            "dtypes: float64(3), int64(26), object(4)\n",
            "memory usage: 12.8+ MB\n"
          ],
          "name": "stdout"
        }
      ]
    },
    {
      "cell_type": "code",
      "metadata": {
        "id": "wRH8B4H8vu43",
        "colab_type": "code",
        "colab": {
          "base_uri": "https://localhost:8080/",
          "height": 607
        },
        "outputId": "4b55d687-35a8-422f-c837-0b696c2d444b"
      },
      "source": [
        " df.dtypes"
      ],
      "execution_count": 343,
      "outputs": [
        {
          "output_type": "execute_result",
          "data": {
            "text/plain": [
              "bathrooms               float64\n",
              "bedrooms                  int64\n",
              "description              object\n",
              "display_address          object\n",
              "latitude                float64\n",
              "longitude               float64\n",
              "price                     int64\n",
              "street_address           object\n",
              "interest_level           object\n",
              "elevator                  int64\n",
              "cats_allowed              int64\n",
              "hardwood_floors           int64\n",
              "dogs_allowed              int64\n",
              "doorman                   int64\n",
              "dishwasher                int64\n",
              "no_fee                    int64\n",
              "laundry_in_building       int64\n",
              "fitness_center            int64\n",
              "pre-war                   int64\n",
              "laundry_in_unit           int64\n",
              "roof_deck                 int64\n",
              "outdoor_space             int64\n",
              "dining_room               int64\n",
              "high_speed_internet       int64\n",
              "balcony                   int64\n",
              "swimming_pool             int64\n",
              "new_construction          int64\n",
              "terrace                   int64\n",
              "exclusive                 int64\n",
              "loft                      int64\n",
              "garden_patio              int64\n",
              "wheelchair_access         int64\n",
              "common_outdoor_space      int64\n",
              "dtype: object"
            ]
          },
          "metadata": {
            "tags": []
          },
          "execution_count": 343
        }
      ]
    },
    {
      "cell_type": "markdown",
      "metadata": {
        "id": "YiGHi8aOYKAT",
        "colab_type": "text"
      },
      "source": [
        "## EDA"
      ]
    },
    {
      "cell_type": "code",
      "metadata": {
        "id": "rme3K1sIYIEt",
        "colab_type": "code",
        "colab": {}
      },
      "source": [
        "pd.options.display.float_format = '{:,.0f}'.format"
      ],
      "execution_count": 344,
      "outputs": []
    },
    {
      "cell_type": "code",
      "metadata": {
        "id": "1PZQIy5022ZS",
        "colab_type": "code",
        "colab": {
          "base_uri": "https://localhost:8080/",
          "height": 265
        },
        "outputId": "a781499b-bf92-4b8b-b696-546ad658169f"
      },
      "source": [
        " df['bedrooms'].plot(kind='hist');  "
      ],
      "execution_count": 345,
      "outputs": [
        {
          "output_type": "display_data",
          "data": {
            "image/png": "[encoded data removed]",
            "text/plain": [
              "<Figure size 432x288 with 1 Axes>"
            ]
          },
          "metadata": {
            "tags": [],
            "needs_background": "light"
          }
        }
      ]
    },
    {
      "cell_type": "code",
      "metadata": {
        "id": "9EXexuuSZDYW",
        "colab_type": "code",
        "colab": {
          "base_uri": "https://localhost:8080/",
          "height": 173
        },
        "outputId": "3c85afac-0522-4ff6-b2bc-d4f4bdb5a565"
      },
      "source": [
        "df.describe()['bedrooms']"
      ],
      "execution_count": 346,
      "outputs": [
        {
          "output_type": "execute_result",
          "data": {
            "text/plain": [
              "count   49,352\n",
              "mean         2\n",
              "std          1\n",
              "min          0\n",
              "25%          1\n",
              "50%          1\n",
              "75%          2\n",
              "max          8\n",
              "Name: bedrooms, dtype: float64"
            ]
          },
          "metadata": {
            "tags": []
          },
          "execution_count": 346
        }
      ]
    },
    {
      "cell_type": "code",
      "metadata": {
        "id": "GmDPNqmgZeGU",
        "colab_type": "code",
        "colab": {
          "base_uri": "https://localhost:8080/",
          "height": 265
        },
        "outputId": "0b135b2b-5d36-4da9-9f80-f1ca2e498830"
      },
      "source": [
        "df['bathrooms'].plot(kind='hist');"
      ],
      "execution_count": 347,
      "outputs": [
        {
          "output_type": "display_data",
          "data": {
            "image/png": "[encoded data removed]",
            "text/plain": [
              "<Figure size 432x288 with 1 Axes>"
            ]
          },
          "metadata": {
            "tags": [],
            "needs_background": "light"
          }
        }
      ]
    },
    {
      "cell_type": "code",
      "metadata": {
        "id": "l3ameZZuaCsL",
        "colab_type": "code",
        "colab": {
          "base_uri": "https://localhost:8080/",
          "height": 87
        },
        "outputId": "01f8e8b0-c909-4831-87a3-25af71b1c815"
      },
      "source": [
        "df['interest_level'].value_counts()"
      ],
      "execution_count": 349,
      "outputs": [
        {
          "output_type": "execute_result",
          "data": {
            "text/plain": [
              "low       34284\n",
              "medium    11229\n",
              "high       3839\n",
              "Name: interest_level, dtype: int64"
            ]
          },
          "metadata": {
            "tags": []
          },
          "execution_count": 349
        }
      ]
    },
    {
      "cell_type": "markdown",
      "metadata": {
        "id": "C-AfkxbCbV-P",
        "colab_type": "text"
      },
      "source": [
        "## Split the data"
      ]
    },
    {
      "cell_type": "code",
      "metadata": {
        "id": "66ZxGTuDbCw1",
        "colab_type": "code",
        "colab": {}
      },
      "source": [
        "# Split my feature matrix from my target vector\n",
        "# Target\n",
        "y = df['bedrooms']\n",
        "# Feature Matrix\n",
        "X = df[['bathrooms']]"
      ],
      "execution_count": 350,
      "outputs": []
    },
    {
      "cell_type": "code",
      "metadata": {
        "id": "J0thJtOmb_fJ",
        "colab_type": "code",
        "colab": {}
      },
      "source": [
        "#import matplotlib.pyplot as plt\n",
        "#import plotly.express as px"
      ],
      "execution_count": 351,
      "outputs": []
    },
    {
      "cell_type": "code",
      "metadata": {
        "id": "u82ii59Pc0p2",
        "colab_type": "code",
        "colab": {
          "base_uri": "https://localhost:8080/",
          "height": 279
        },
        "outputId": "6dfc4950-7aaa-420d-aebc-d0f3e4b798e3"
      },
      "source": [
        "plt.scatter(X, y);\n",
        "plt.xlabel('bathrooms')\n",
        "plt.ylabel('bedrooms')\n",
        "plt.show()"
      ],
      "execution_count": 359,
      "outputs": [
        {
          "output_type": "display_data",
          "data": {
            "image/png": "[encoded data removed]",
            "text/plain": [
              "<Figure size 432x288 with 1 Axes>"
            ]
          },
          "metadata": {
            "tags": [],
            "needs_background": "light"
          }
        }
      ]
    },
    {
      "cell_type": "markdown",
      "metadata": {
        "id": "fPZCttAZecJ0",
        "colab_type": "text"
      },
      "source": [
        "## Train-validation split\n"
      ]
    },
    {
      "cell_type": "code",
      "metadata": {
        "id": "jQHSxpyGd9Vo",
        "colab_type": "code",
        "colab": {}
      },
      "source": [
        "# We can do split randomly. However, sometimes when we're working with time series, we need to split by using a cutoff date\n",
        "\n",
        "cutoff_date = '2016-04-17 03:26:41'\n",
        "mask = X.index < cutoff_date\n",
        "X_train, y_train = X.loc[mask], y.loc[mask]\n",
        "X_test, y_test = X.loc[~mask], y.loc[~mask]"
      ],
      "execution_count": 214,
      "outputs": []
    },
    {
      "cell_type": "markdown",
      "metadata": {
        "id": "a2aotTlYflw4",
        "colab_type": "text"
      },
      "source": [
        "## Establish Baseline"
      ]
    },
    {
      "cell_type": "code",
      "metadata": {
        "id": "asECQL0Dfe4Y",
        "colab_type": "code",
        "colab": {
          "base_uri": "https://localhost:8080/",
          "height": 243
        },
        "outputId": "aa6eebc9-cec4-42fb-bdbc-8d670b60425b"
      },
      "source": [
        "y_train"
      ],
      "execution_count": 215,
      "outputs": [
        {
          "output_type": "execute_result",
          "data": {
            "text/plain": [
              "created\n",
              "2016-04-13 06:01:42    1\n",
              "2016-04-02 02:58:15    4\n",
              "2016-04-14 01:10:30    0\n",
              "2016-04-09 01:22:11    2\n",
              "2016-04-09 03:49:42    1\n",
              "                      ..\n",
              "2016-04-11 03:29:05    1\n",
              "2016-04-04 18:22:34    1\n",
              "2016-04-16 02:13:40    1\n",
              "2016-04-08 02:13:33    0\n",
              "2016-04-12 02:48:07    2\n",
              "Name: bedrooms, Length: 8986, dtype: int64"
            ]
          },
          "metadata": {
            "tags": []
          },
          "execution_count": 215
        }
      ]
    },
    {
      "cell_type": "code",
      "metadata": {
        "id": "BFki4oiOf9Vo",
        "colab_type": "code",
        "colab": {
          "base_uri": "https://localhost:8080/",
          "height": 265
        },
        "outputId": "e908ea83-1047-4b98-b31e-18670ec5b854"
      },
      "source": [
        "y_train.plot(kind='hist');"
      ],
      "execution_count": 216,
      "outputs": [
        {
          "output_type": "display_data",
          "data": {
            "image/png": "[encoded data removed]",
            "text/plain": [
              "<Figure size 432x288 with 1 Axes>"
            ]
          },
          "metadata": {
            "tags": [],
            "needs_background": "light"
          }
        }
      ]
    },
    {
      "cell_type": "code",
      "metadata": {
        "id": "aVogY2Q1ll-8",
        "colab_type": "code",
        "colab": {
          "base_uri": "https://localhost:8080/",
          "height": 52
        },
        "outputId": "7c545d3c-3b9c-4992-e1b3-5e4d70e96441"
      },
      "source": [
        "baseline_guess = y_train.mean()\n",
        "\n",
        "MAE = abs(y_train - baseline_guess).mean()\n",
        "\n",
        "print(f'''If my baseline model always predicts {baseline_guess}, \n",
        "on average, the prediction will be off by {MAE}.''')"
      ],
      "execution_count": 218,
      "outputs": [
        {
          "output_type": "stream",
          "text": [
            "If my baseline model always predicts 1.5027821054974404, \n",
            "on average, the prediction will be off by 0.9254676104466746.\n"
          ],
          "name": "stdout"
        }
      ]
    },
    {
      "cell_type": "markdown",
      "metadata": {
        "id": "sNDQ1qNslyXx",
        "colab_type": "text"
      },
      "source": [
        "## Build My Model"
      ]
    },
    {
      "cell_type": "code",
      "metadata": {
        "id": "aXNIFz_Irnko",
        "colab_type": "code",
        "colab": {}
      },
      "source": [
        "# 1. Arrange X features matrix and y target vector\n",
        "y= df['bedrooms']\n",
        "X= df[['bathrooms']]"
      ],
      "execution_count": 225,
      "outputs": []
    },
    {
      "cell_type": "code",
      "metadata": {
        "id": "CFeWRw7x_yQE",
        "colab_type": "code",
        "colab": {}
      },
      "source": [
        "# 2. Creating a train_test split\n",
        "from sklearn.linear_model import LinearRegression\n",
        "X_train, X_test, y_train, y_test = train_test_split(X, y, test_size=0.2, random_state=42)"
      ],
      "execution_count": null,
      "outputs": []
    },
    {
      "cell_type": "code",
      "metadata": {
        "id": "dR_87P5Dlwss",
        "colab_type": "code",
        "colab": {}
      },
      "source": [
        "# 3. Import the appropriate estimtor class from Scikit-learn\n",
        "from sklearn.linear_model import LinearRegression"
      ],
      "execution_count": 226,
      "outputs": []
    },
    {
      "cell_type": "code",
      "metadata": {
        "id": "i3m18AZLlsaO",
        "colab_type": "code",
        "colab": {}
      },
      "source": [
        "# 4. Instantiate your predictor\n",
        "lr = LinearRegression();"
      ],
      "execution_count": 227,
      "outputs": []
    },
    {
      "cell_type": "code",
      "metadata": {
        "id": "10M3h2hXwQK4",
        "colab_type": "code",
        "colab": {}
      },
      "source": [
        "# Arrange X features matrix and y target vector\n",
        "y= df['bedrooms']\n",
        "X= df[['bathrooms']]"
      ],
      "execution_count": 228,
      "outputs": []
    },
    {
      "cell_type": "code",
      "metadata": {
        "id": "4O_wGbqjpWJj",
        "colab_type": "code",
        "colab": {}
      },
      "source": [
        "# 5. Fit the model which is train my predictor by using the training data\n",
        "lr.fit(X_train,y_train);"
      ],
      "execution_count": 229,
      "outputs": []
    },
    {
      "cell_type": "code",
      "metadata": {
        "id": "yJygVCrCtd5A",
        "colab_type": "code",
        "colab": {}
      },
      "source": [
        "# 6. Apply the model to the new data which is testing data\n",
        "from sklearn.metrics import mean_absolute_error"
      ],
      "execution_count": 230,
      "outputs": []
    },
    {
      "cell_type": "code",
      "metadata": {
        "id": "mA00wZIVtwin",
        "colab_type": "code",
        "colab": {
          "base_uri": "https://localhost:8080/",
          "height": 52
        },
        "outputId": "35cffb5d-1711-4689-b330-e8b7256baddb"
      },
      "source": [
        "# Comparing my matrixes\n",
        "print('Training MAE:', mean_absolute_error(y_train, lr.predict(X_train)))\n",
        "print('Testing MAE:', mean_absolute_error(y_test, lr.predict(X_test)))"
      ],
      "execution_count": 231,
      "outputs": [
        {
          "output_type": "stream",
          "text": [
            "Training MAE: 0.7738725528489321\n",
            "Testing MAE: 0.7806914429715129\n"
          ],
          "name": "stdout"
        }
      ]
    },
    {
      "cell_type": "code",
      "metadata": {
        "id": "wDXlP1dVmlB7",
        "colab_type": "code",
        "colab": {
          "base_uri": "https://localhost:8080/",
          "height": 35
        },
        "outputId": "c5c8e924-11e7-494f-9329-d895b4af7920"
      },
      "source": [
        "lr.coef_"
      ],
      "execution_count": 232,
      "outputs": [
        {
          "output_type": "execute_result",
          "data": {
            "text/plain": [
              "array([1.1481261])"
            ]
          },
          "metadata": {
            "tags": []
          },
          "execution_count": 232
        }
      ]
    },
    {
      "cell_type": "code",
      "metadata": {
        "id": "yLozX668ml57",
        "colab_type": "code",
        "colab": {
          "base_uri": "https://localhost:8080/",
          "height": 35
        },
        "outputId": "43fc86bc-ba38-4dd4-b2d7-5152c6af10f6"
      },
      "source": [
        "lr.intercept_"
      ],
      "execution_count": 233,
      "outputs": [
        {
          "output_type": "execute_result",
          "data": {
            "text/plain": [
              "0.1215427087287484"
            ]
          },
          "metadata": {
            "tags": []
          },
          "execution_count": 233
        }
      ]
    },
    {
      "cell_type": "code",
      "metadata": {
        "id": "2jp0jo3XA9KR",
        "colab_type": "code",
        "colab": {
          "base_uri": "https://localhost:8080/",
          "height": 52
        },
        "outputId": "68873ed7-2079-4c04-e350-493789d0b86c"
      },
      "source": [
        "# Explain the coeffician\n",
        "def predict(bathrooms):\n",
        "    y_pred = lr.predict([[bathrooms]])\n",
        "    estimate = y_pred[0]\n",
        "    coefficient = lr.coef_[0]\n",
        "    result = f'${estimate:,.0f} estimated bedrooms for {bathrooms:,.0f} bathroom in apartment.'\n",
        "    explanation = f'In this linear regression, each additional bathroom adds ${coefficient:,.0f}.'\n",
        "    return result + '\\n' + explanation\n",
        "\n",
        "print(predict(1497))"
      ],
      "execution_count": 237,
      "outputs": [
        {
          "output_type": "stream",
          "text": [
            "$1,719 estimated bedrooms for 1,497 bathroom in apartment.\n",
            "In this linear regression, each additional bathroom adds $1.\n"
          ],
          "name": "stdout"
        }
      ]
    },
    {
      "cell_type": "markdown",
      "metadata": {
        "id": "Qu_o_OpqGonR",
        "colab_type": "text"
      },
      "source": [
        "## Stretch Goals\n",
        "[ ] Do linear regression with two or more features.\n",
        "\n",
        "[ ] Read The Discovery of Statistical Regression\n",
        "\n",
        "[ ] Read An Introduction to Statistical Learning, Chapter 2.1: What Is Statistical Learning?"
      ]
    },
    {
      "cell_type": "code",
      "metadata": {
        "id": "lqlmlZmRHdE6",
        "colab_type": "code",
        "colab": {}
      },
      "source": [
        "y1 =df['bedrooms']\n",
        "y2 = df['elevator']\n",
        "\n",
        "X1 = df[['bathrooms']]               \n",
        "X2 = df[['longitude']]  "
      ],
      "execution_count": 302,
      "outputs": []
    },
    {
      "cell_type": "code",
      "metadata": {
        "id": "c4SB6uxVIN3m",
        "colab_type": "code",
        "colab": {
          "base_uri": "https://localhost:8080/",
          "height": 279
        },
        "outputId": "6367b404-b837-43a4-941a-e4b86d5cd3f2"
      },
      "source": [
        "plt.scatter(X1, y1);\n",
        "plt.xlabel('bathrooms')\n",
        "plt.ylabel('bedrooms')\n",
        "plt.show()\n"
      ],
      "execution_count": 303,
      "outputs": [
        {
          "output_type": "display_data",
          "data": {
            "image/png": "[encoded data removed]",
            "text/plain": [
              "<Figure size 432x288 with 1 Axes>"
            ]
          },
          "metadata": {
            "tags": [],
            "needs_background": "light"
          }
        }
      ]
    },
    {
      "cell_type": "code",
      "metadata": {
        "id": "-R9BYsTHKcRJ",
        "colab_type": "code",
        "colab": {
          "base_uri": "https://localhost:8080/",
          "height": 279
        },
        "outputId": "cdb9ca06-cf77-4011-8fc8-a7f0c5b9c0f3"
      },
      "source": [
        "plt.scatter(X2, y2);\n",
        "plt.xlabel('longitude')\n",
        "plt.ylabel('elevator')\n",
        "plt.show()"
      ],
      "execution_count": 304,
      "outputs": [
        {
          "output_type": "display_data",
          "data": {
            "image/png": "[encoded data removed]",
            "text/plain": [
              "<Figure size 432x288 with 1 Axes>"
            ]
          },
          "metadata": {
            "tags": [],
            "needs_background": "light"
          }
        }
      ]
    },
    {
      "cell_type": "code",
      "metadata": {
        "id": "O_JMkrp5LSOb",
        "colab_type": "code",
        "colab": {}
      },
      "source": [
        "# We can do split randomly. However, sometimes when we're working with time series, we need to split by using a cutoff date\n",
        "\n",
        "cutoff_date_s = '2016-04-17 03:26:41'\n",
        "mask = X1.index < cutoff_date_s\n",
        "X1_train, y1_train = X1.loc[mask], y1.loc[mask]\n",
        "X1_test, y1_test = X1.loc[~mask], y1.loc[~mask]"
      ],
      "execution_count": 305,
      "outputs": []
    },
    {
      "cell_type": "code",
      "metadata": {
        "id": "IpeCoKDAMEm-",
        "colab_type": "code",
        "colab": {}
      },
      "source": [
        "# We can do split randomly. However, sometimes when we're working with time series, we need to split by using a cutoff date\n",
        "\n",
        "cutoff_date_sp = '2016-04-17 03:26:41'\n",
        "mask = X2.index < cutoff_date_sp\n",
        "X2_train, y2_train = X2.loc[mask], y2.loc[mask]\n",
        "X2_test, y2_test = X2.loc[~mask], y2.loc[~mask]"
      ],
      "execution_count": 306,
      "outputs": []
    },
    {
      "cell_type": "code",
      "metadata": {
        "id": "1jz9c8gEMYaX",
        "colab_type": "code",
        "colab": {
          "base_uri": "https://localhost:8080/",
          "height": 243
        },
        "outputId": "e6af0bdf-86ed-4967-9a96-775fa2b7925d"
      },
      "source": [
        "y1_train"
      ],
      "execution_count": 307,
      "outputs": [
        {
          "output_type": "execute_result",
          "data": {
            "text/plain": [
              "created\n",
              "2016-04-13 06:01:42    1\n",
              "2016-04-02 02:58:15    4\n",
              "2016-04-14 01:10:30    0\n",
              "2016-04-09 01:22:11    2\n",
              "2016-04-09 03:49:42    1\n",
              "                      ..\n",
              "2016-04-11 03:29:05    1\n",
              "2016-04-04 18:22:34    1\n",
              "2016-04-16 02:13:40    1\n",
              "2016-04-08 02:13:33    0\n",
              "2016-04-12 02:48:07    2\n",
              "Name: bedrooms, Length: 8986, dtype: int64"
            ]
          },
          "metadata": {
            "tags": []
          },
          "execution_count": 307
        }
      ]
    },
    {
      "cell_type": "code",
      "metadata": {
        "id": "pCeJ8egTMoaI",
        "colab_type": "code",
        "colab": {
          "base_uri": "https://localhost:8080/",
          "height": 265
        },
        "outputId": "a8e1d2b7-a14f-48be-8b45-c4448e0f18da"
      },
      "source": [
        "y1_train.plot(kind='hist');"
      ],
      "execution_count": 308,
      "outputs": [
        {
          "output_type": "display_data",
          "data": {
            "image/png": "[encoded data removed]",
            "text/plain": [
              "<Figure size 432x288 with 1 Axes>"
            ]
          },
          "metadata": {
            "tags": [],
            "needs_background": "light"
          }
        }
      ]
    },
    {
      "cell_type": "code",
      "metadata": {
        "id": "9gtF_mz5NLt2",
        "colab_type": "code",
        "colab": {
          "base_uri": "https://localhost:8080/",
          "height": 265
        },
        "outputId": "9b12ee47-8655-45cf-ea06-db2bb916a51a"
      },
      "source": [
        "y2_train.plot(kind='hist');"
      ],
      "execution_count": 309,
      "outputs": [
        {
          "output_type": "display_data",
          "data": {
            "image/png": "[encoded data removed]",
            "text/plain": [
              "<Figure size 432x288 with 1 Axes>"
            ]
          },
          "metadata": {
            "tags": [],
            "needs_background": "light"
          }
        }
      ]
    },
    {
      "cell_type": "code",
      "metadata": {
        "id": "9dtQeOmvNVqy",
        "colab_type": "code",
        "colab": {
          "base_uri": "https://localhost:8080/",
          "height": 52
        },
        "outputId": "1c483e42-fad5-4f88-85b2-33074005d9d3"
      },
      "source": [
        "baseline_guess = y1_train.mean()\n",
        "\n",
        "MAE = abs(y1_train - baseline_guess).mean()\n",
        "\n",
        "print(f'''If my baseline model always predicts {baseline_guess}, \n",
        "on average, the prediction will be off by {MAE}.''')"
      ],
      "execution_count": 310,
      "outputs": [
        {
          "output_type": "stream",
          "text": [
            "If my baseline model always predicts 1.5027821054974404, \n",
            "on average, the prediction will be off by 0.9254676104466746.\n"
          ],
          "name": "stdout"
        }
      ]
    },
    {
      "cell_type": "code",
      "metadata": {
        "id": "Ns0qkhgiOEZ5",
        "colab_type": "code",
        "colab": {
          "base_uri": "https://localhost:8080/",
          "height": 52
        },
        "outputId": "f35a6005-61f4-43a7-a6bd-85a079e82a43"
      },
      "source": [
        "baseline_guess = y2_train.mean()\n",
        "\n",
        "MAE = abs(y2_train - baseline_guess).mean()\n",
        "\n",
        "print(f'''If my baseline model always predicts {baseline_guess}, \n",
        "on average, the prediction will be off by {MAE}.''')"
      ],
      "execution_count": 311,
      "outputs": [
        {
          "output_type": "stream",
          "text": [
            "If my baseline model always predicts 0.5205875806810595, \n",
            "on average, the prediction will be off by 0.4991523030434045.\n"
          ],
          "name": "stdout"
        }
      ]
    },
    {
      "cell_type": "code",
      "metadata": {
        "id": "8x7dHRR6OL7v",
        "colab_type": "code",
        "colab": {}
      },
      "source": [
        "# Build the model\n",
        "# 1. Arrange X features matrix and y target vector\n",
        "y1 =df['bedrooms']\n",
        "y2 = df['elevator']\n",
        "\n",
        "X1 = df[['bathrooms']]               \n",
        "X2 = df[['longitude']]  "
      ],
      "execution_count": 312,
      "outputs": []
    },
    {
      "cell_type": "code",
      "metadata": {
        "id": "x22l6l7RO01z",
        "colab_type": "code",
        "colab": {}
      },
      "source": [
        "# 2. Creating a train_test split\n",
        "from sklearn.linear_model import LinearRegression\n",
        "X1_train,X2_train, X1_test,X2_test, y1_train, y2_train, y1_test, y2_test, = train_test_split(X1, X2, y1, y2, test_size=0.2, random_state=42)"
      ],
      "execution_count": null,
      "outputs": []
    },
    {
      "cell_type": "code",
      "metadata": {
        "id": "104ZYw0HO7Qk",
        "colab_type": "code",
        "colab": {}
      },
      "source": [
        "# 3. Import the appropriate estimtor class from Scikit-learn\n",
        "from sklearn.linear_model import LinearRegression"
      ],
      "execution_count": 313,
      "outputs": []
    },
    {
      "cell_type": "code",
      "metadata": {
        "id": "RVEsuIecO7Km",
        "colab_type": "code",
        "colab": {}
      },
      "source": [
        "# 4. Instantiate your predictor\n",
        "lr = LinearRegression();"
      ],
      "execution_count": 314,
      "outputs": []
    },
    {
      "cell_type": "code",
      "metadata": {
        "id": "XWQaJo4hPw3a",
        "colab_type": "code",
        "colab": {}
      },
      "source": [
        "# Build the model\n",
        "# 1. Arrange X features matrix and y target vector\n",
        "y1 =df['bedrooms']\n",
        "y2 = df['elevator']\n",
        "\n",
        "X1 = df[['bathrooms']]               \n",
        "X2 = df[['longitude']]  "
      ],
      "execution_count": 315,
      "outputs": []
    },
    {
      "cell_type": "code",
      "metadata": {
        "id": "e5Hzxb4CPws6",
        "colab_type": "code",
        "colab": {}
      },
      "source": [
        "# 5. Fit the model which is train my predictor by using the training data\n",
        "lr.fit(X1_train,y1_train);\n",
        "lr.fit(X2_train,y2_train);"
      ],
      "execution_count": 317,
      "outputs": []
    },
    {
      "cell_type": "code",
      "metadata": {
        "id": "lUwI5mHtQHem",
        "colab_type": "code",
        "colab": {}
      },
      "source": [
        "# 6. Apply the model to the new data which is testing data\n",
        "from sklearn.metrics import mean_absolute_error"
      ],
      "execution_count": 318,
      "outputs": []
    },
    {
      "cell_type": "code",
      "metadata": {
        "id": "PJlFuh9gQNdd",
        "colab_type": "code",
        "colab": {
          "base_uri": "https://localhost:8080/",
          "height": 52
        },
        "outputId": "77c28c8d-babb-4fff-822b-0ce5e45a4393"
      },
      "source": [
        "# Comparing my matrixes\n",
        "print('Training MAE:', mean_absolute_error(y1_train, lr.predict(X1_train)))\n",
        "print('Testing MAE:', mean_absolute_error(y1_test, lr.predict(X1_test)))"
      ],
      "execution_count": 319,
      "outputs": [
        {
          "output_type": "stream",
          "text": [
            "Training MAE: 13.645605415614515\n",
            "Testing MAE: 13.69499587536614\n"
          ],
          "name": "stdout"
        }
      ]
    },
    {
      "cell_type": "code",
      "metadata": {
        "id": "SgcwziYtQN2x",
        "colab_type": "code",
        "colab": {
          "base_uri": "https://localhost:8080/",
          "height": 52
        },
        "outputId": "82f25a9d-0980-42da-d70b-2f9dbc9df99d"
      },
      "source": [
        "print('Training MAE:', mean_absolute_error(y2_train, lr.predict(X2_train)))\n",
        "print('Testing MAE:', mean_absolute_error(y2_test, lr.predict(X2_test)))"
      ],
      "execution_count": 320,
      "outputs": [
        {
          "output_type": "stream",
          "text": [
            "Training MAE: 0.49842496239409034\n",
            "Testing MAE: 0.501760613994503\n"
          ],
          "name": "stdout"
        }
      ]
    },
    {
      "cell_type": "code",
      "metadata": {
        "id": "nKKkX-RzQNWR",
        "colab_type": "code",
        "colab": {
          "base_uri": "https://localhost:8080/",
          "height": 35
        },
        "outputId": "1ced97eb-78e8-4ae0-dfb5-54643d02a853"
      },
      "source": [
        "lr.coef_"
      ],
      "execution_count": 321,
      "outputs": [
        {
          "output_type": "execute_result",
          "data": {
            "text/plain": [
              "array([-0.16844758])"
            ]
          },
          "metadata": {
            "tags": []
          },
          "execution_count": 321
        }
      ]
    },
    {
      "cell_type": "code",
      "metadata": {
        "id": "FqNZmHDVQroB",
        "colab_type": "code",
        "colab": {
          "base_uri": "https://localhost:8080/",
          "height": 35
        },
        "outputId": "a857bb57-71e9-4b51-8f5e-8e483dddf829"
      },
      "source": [
        "lr.intercept_"
      ],
      "execution_count": 322,
      "outputs": [
        {
          "output_type": "execute_result",
          "data": {
            "text/plain": [
              "-11.940174465386828"
            ]
          },
          "metadata": {
            "tags": []
          },
          "execution_count": 322
        }
      ]
    },
    {
      "cell_type": "code",
      "metadata": {
        "id": "l7XnXbv5QxNI",
        "colab_type": "code",
        "colab": {
          "base_uri": "https://localhost:8080/",
          "height": 52
        },
        "outputId": "c1fa98cc-1b2d-4331-ec60-a8cbd83f9133"
      },
      "source": [
        "# Explain the coeffician\n",
        "def predict(longitude):\n",
        "    y1_pred = lr.predict([[longitude]])\n",
        "    estimate = y1_pred[0]\n",
        "    coefficient = lr.coef_[0]\n",
        "    result = f'${estimate:,.0f} estimated elevator for {longitude:,.0f} longitude in apartment.'\n",
        "    explanation = f'In this linear regression, each additional longitude adds ${coefficient:,.0f}.'\n",
        "    return result + '\\n' + explanation\n",
        "\n",
        "print(predict(1497))"
      ],
      "execution_count": 334,
      "outputs": [
        {
          "output_type": "stream",
          "text": [
            "$-264 estimated elevator for 1,497 longitude in apartment.\n",
            "In this linear regression, each additional longitude adds $-0.\n"
          ],
          "name": "stdout"
        }
      ]
    },
    {
      "cell_type": "code",
      "metadata": {
        "id": "l6cKjgoGR-XA",
        "colab_type": "code",
        "colab": {
          "base_uri": "https://localhost:8080/",
          "height": 52
        },
        "outputId": "450d3100-cd3b-4b96-a7c5-67917e08ea73"
      },
      "source": [
        "def predict(bathrooms):\n",
        "    y2_pred = lr.predict([[bathrooms]])\n",
        "    estimate = y2_pred[0]\n",
        "    coefficient = lr.coef_[0]\n",
        "    result = f'${estimate:,.0f} estimated price for {bathrooms:,.0f} bathrooms in Apartment.'\n",
        "    explanation = f'In this linear regression, each additional bathrooms adds ${coefficient:,.0f}.'\n",
        "    return result + '\\n' + explanation\n",
        "\n",
        "print(predict(1497))"
      ],
      "execution_count": 337,
      "outputs": [
        {
          "output_type": "stream",
          "text": [
            "$-264 estimated price for 1,497 bathrooms in Apartment.\n",
            "In this linear regression, each additional bathrooms adds $-0.\n"
          ],
          "name": "stdout"
        }
      ]
    }
  ]
}