{
  "nbformat": 4,
  "nbformat_minor": 0,
  "metadata": {
    "kernelspec": {
      "display_name": "Python 3",
      "language": "python",
      "name": "python3"
    },
    "language_info": {
      "codemirror_mode": {
        "name": "ipython",
        "version": 3
      },
      "file_extension": ".py",
      "mimetype": "text/x-python",
      "name": "python",
      "nbconvert_exporter": "python",
      "pygments_lexer": "ipython3",
      "version": "3.7.3"
    },
    "colab": {
      "name": "Sd_ LS_DS_211_assignment.ipynb",
      "provenance": [],
      "collapsed_sections": [],
      "include_colab_link": true
    }
  },
  "cells": [
    {
      "cell_type": "markdown",
      "metadata": {
        "id": "view-in-github",
        "colab_type": "text"
      },
      "source": [
        "<a href=\"https://colab.research.google.com/github/shemaaali/DS-Unit-2-Linear-Models/blob/master/module1-regression-1/LS_DS_211_assignment/Sd__LS_DS_211_assignment.ipynb\" target=\"_parent\"><img src=\"https://colab.research.google.com/assets/colab-badge.svg\" alt=\"Open In Colab\"/></a>"
      ]
    },
    {
      "cell_type": "markdown",
      "metadata": {
        "id": "btR-GVQ5sgyf",
        "colab_type": "text"
      },
      "source": [
        "Lambda School Data Science\n",
        "\n",
        "*Unit 2, Sprint 1, Module 1*\n",
        "\n",
        "---"
      ]
    },
    {
      "cell_type": "markdown",
      "metadata": {
        "colab_type": "text",
        "id": "7IXUfiQ2UKj6"
      },
      "source": [
        "# Regression 1\n",
        "\n",
        "## Assignment\n",
        "\n",
        "You'll use another **New York City** real estate dataset. \n",
        "\n",
        "But now you'll **predict how much it costs to rent an apartment**, instead of how much it costs to buy a condo.\n",
        "\n",
        "The data comes from renthop.com, an apartment listing website.\n",
        "\n",
        "- [ ] Look at the data. Choose a feature, and plot its relationship with the target.\n",
        "- [ ] Use scikit-learn for linear regression with one feature. You can follow the [5-step process from Jake VanderPlas](https://jakevdp.github.io/PythonDataScienceHandbook/05.02-introducing-scikit-learn.html#Basics-of-the-API).\n",
        "- [ ] Define a function to make new predictions and explain the model coefficient.\n",
        "- [ ] Organize and comment your code.\n",
        "\n",
        "> [Do Not Copy-Paste.](https://docs.google.com/document/d/1ubOw9B3Hfip27hF2ZFnW3a3z9xAgrUDRReOEo-FHCVs/edit) You must type each of these exercises in, manually. If you copy and paste, you might as well not even do them. The point of these exercises is to train your hands, your brain, and your mind in how to read, write, and see code. If you copy-paste, you are cheating yourself out of the effectiveness of the lessons.\n",
        "\n",
        "If your **Plotly** visualizations aren't working:\n",
        "- You must have JavaScript enabled in your browser\n",
        "- You probably want to use Chrome or Firefox\n",
        "- You may need to turn off ad blockers\n",
        "- [If you're using Jupyter Lab locally, you need to install some \"extensions\"](https://plot.ly/python/getting-started/#jupyterlab-support-python-35)\n",
        "\n",
        "## Stretch Goals\n",
        "- [ ] Do linear regression with two or more features.\n",
        "- [ ] Read [The Discovery of Statistical Regression](https://priceonomics.com/the-discovery-of-statistical-regression/)\n",
        "- [ ] Read [_An Introduction to Statistical Learning_](http://faculty.marshall.usc.edu/gareth-james/ISL/ISLR%20Seventh%20Printing.pdf), Chapter 2.1: What Is Statistical Learning?"
      ]
    },
    {
      "cell_type": "code",
      "metadata": {
        "colab_type": "code",
        "id": "o9eSnDYhUGD7",
        "colab": {}
      },
      "source": [
        "import sys\n",
        " \n",
        "# If you're on Colab:\n",
        "if 'google.colab' in sys.modules:\n",
        "    DATA_PATH = 'https://raw.githubusercontent.com/LambdaSchool/DS-Unit-2-Applied-Modeling/master/data/'\n",
        " \n",
        "# If you're working locally:\n",
        "else:\n",
        "    DATA_PATH = '../data/'\n",
        "    \n",
        "# Ignore this Numpy warning when using Plotly Express:\n",
        "# FutureWarning: Method .ptp is deprecated and will be removed in a future version. Use numpy.ptp instead.\n",
        "import warnings\n",
        "warnings.filterwarnings(action='ignore', category=FutureWarning, module='numpy')"
      ],
      "execution_count": 166,
      "outputs": []
    },
    {
      "cell_type": "code",
      "metadata": {
        "colab_type": "code",
        "id": "4S2wXSrFV_g4",
        "colab": {}
      },
      "source": [
        "# Read New York City apartment rental listing data\n",
        "import pandas as pd\n",
        "df = pd.read_csv(DATA_PATH+'apartments/renthop-nyc.csv')\n",
        "assert df.shape == (49352, 34)"
      ],
      "execution_count": 167,
      "outputs": []
    },
    {
      "cell_type": "code",
      "metadata": {
        "id": "_T1iM99csgyt",
        "colab_type": "code",
        "colab": {
          "base_uri": "https://localhost:8080/",
          "height": 534
        },
        "outputId": "b335337a-2b00-4175-8353-905f893a318d"
      },
      "source": [
        "# Remove outliers: \n",
        "# the most extreme 1% prices,\n",
        "# the most extreme .1% latitudes, &\n",
        "# the most extreme .1% longitudes\n",
        "df = df[(df['price'] >= 1375) & (df['price'] <= 15500) & \n",
        "        (df['latitude'] >=40.57) & (df['latitude'] < 40.99) &\n",
        "        (df['longitude'] >= -74.1) & (df['longitude'] <= -73.38)]\n",
        "print(df.shape)\n",
        "df.head()"
      ],
      "execution_count": 168,
      "outputs": [
        {
          "output_type": "stream",
          "text": [
            "(48818, 34)\n"
          ],
          "name": "stdout"
        },
        {
          "output_type": "execute_result",
          "data": {
            "text/html": [
              "<div>\n",
              "<style scoped>\n",
              "    .dataframe tbody tr th:only-of-type {\n",
              "        vertical-align: middle;\n",
              "    }\n",
              "\n",
              "    .dataframe tbody tr th {\n",
              "        vertical-align: top;\n",
              "    }\n",
              "\n",
              "    .dataframe thead th {\n",
              "        text-align: right;\n",
              "    }\n",
              "</style>\n",
              "<table border=\"1\" class=\"dataframe\">\n",
              "  <thead>\n",
              "    <tr style=\"text-align: right;\">\n",
              "      <th></th>\n",
              "      <th>bathrooms</th>\n",
              "      <th>bedrooms</th>\n",
              "      <th>created</th>\n",
              "      <th>description</th>\n",
              "      <th>display_address</th>\n",
              "      <th>latitude</th>\n",
              "      <th>longitude</th>\n",
              "      <th>price</th>\n",
              "      <th>street_address</th>\n",
              "      <th>interest_level</th>\n",
              "      <th>elevator</th>\n",
              "      <th>cats_allowed</th>\n",
              "      <th>hardwood_floors</th>\n",
              "      <th>dogs_allowed</th>\n",
              "      <th>doorman</th>\n",
              "      <th>dishwasher</th>\n",
              "      <th>no_fee</th>\n",
              "      <th>laundry_in_building</th>\n",
              "      <th>fitness_center</th>\n",
              "      <th>pre-war</th>\n",
              "      <th>laundry_in_unit</th>\n",
              "      <th>roof_deck</th>\n",
              "      <th>outdoor_space</th>\n",
              "      <th>dining_room</th>\n",
              "      <th>high_speed_internet</th>\n",
              "      <th>balcony</th>\n",
              "      <th>swimming_pool</th>\n",
              "      <th>new_construction</th>\n",
              "      <th>terrace</th>\n",
              "      <th>exclusive</th>\n",
              "      <th>loft</th>\n",
              "      <th>garden_patio</th>\n",
              "      <th>wheelchair_access</th>\n",
              "      <th>common_outdoor_space</th>\n",
              "    </tr>\n",
              "  </thead>\n",
              "  <tbody>\n",
              "    <tr>\n",
              "      <th>0</th>\n",
              "      <td>2</td>\n",
              "      <td>3</td>\n",
              "      <td>2016-06-24 07:54:24</td>\n",
              "      <td>A Brand New 3 Bedroom 1.5 bath ApartmentEnjoy ...</td>\n",
              "      <td>Metropolitan Avenue</td>\n",
              "      <td>41</td>\n",
              "      <td>-74</td>\n",
              "      <td>3000</td>\n",
              "      <td>792 Metropolitan Avenue</td>\n",
              "      <td>medium</td>\n",
              "      <td>0</td>\n",
              "      <td>0</td>\n",
              "      <td>0</td>\n",
              "      <td>0</td>\n",
              "      <td>0</td>\n",
              "      <td>0</td>\n",
              "      <td>0</td>\n",
              "      <td>0</td>\n",
              "      <td>0</td>\n",
              "      <td>0</td>\n",
              "      <td>0</td>\n",
              "      <td>0</td>\n",
              "      <td>0</td>\n",
              "      <td>0</td>\n",
              "      <td>0</td>\n",
              "      <td>0</td>\n",
              "      <td>0</td>\n",
              "      <td>0</td>\n",
              "      <td>0</td>\n",
              "      <td>0</td>\n",
              "      <td>0</td>\n",
              "      <td>0</td>\n",
              "      <td>0</td>\n",
              "      <td>0</td>\n",
              "    </tr>\n",
              "    <tr>\n",
              "      <th>1</th>\n",
              "      <td>1</td>\n",
              "      <td>2</td>\n",
              "      <td>2016-06-12 12:19:27</td>\n",
              "      <td></td>\n",
              "      <td>Columbus Avenue</td>\n",
              "      <td>41</td>\n",
              "      <td>-74</td>\n",
              "      <td>5465</td>\n",
              "      <td>808 Columbus Avenue</td>\n",
              "      <td>low</td>\n",
              "      <td>1</td>\n",
              "      <td>1</td>\n",
              "      <td>0</td>\n",
              "      <td>1</td>\n",
              "      <td>1</td>\n",
              "      <td>0</td>\n",
              "      <td>0</td>\n",
              "      <td>0</td>\n",
              "      <td>1</td>\n",
              "      <td>0</td>\n",
              "      <td>0</td>\n",
              "      <td>0</td>\n",
              "      <td>0</td>\n",
              "      <td>0</td>\n",
              "      <td>0</td>\n",
              "      <td>0</td>\n",
              "      <td>0</td>\n",
              "      <td>0</td>\n",
              "      <td>0</td>\n",
              "      <td>0</td>\n",
              "      <td>0</td>\n",
              "      <td>0</td>\n",
              "      <td>0</td>\n",
              "      <td>0</td>\n",
              "    </tr>\n",
              "    <tr>\n",
              "      <th>2</th>\n",
              "      <td>1</td>\n",
              "      <td>1</td>\n",
              "      <td>2016-04-17 03:26:41</td>\n",
              "      <td>Top Top West Village location, beautiful Pre-w...</td>\n",
              "      <td>W 13 Street</td>\n",
              "      <td>41</td>\n",
              "      <td>-74</td>\n",
              "      <td>2850</td>\n",
              "      <td>241 W 13 Street</td>\n",
              "      <td>high</td>\n",
              "      <td>0</td>\n",
              "      <td>0</td>\n",
              "      <td>1</td>\n",
              "      <td>0</td>\n",
              "      <td>0</td>\n",
              "      <td>1</td>\n",
              "      <td>0</td>\n",
              "      <td>1</td>\n",
              "      <td>0</td>\n",
              "      <td>0</td>\n",
              "      <td>0</td>\n",
              "      <td>0</td>\n",
              "      <td>0</td>\n",
              "      <td>0</td>\n",
              "      <td>0</td>\n",
              "      <td>0</td>\n",
              "      <td>0</td>\n",
              "      <td>0</td>\n",
              "      <td>0</td>\n",
              "      <td>0</td>\n",
              "      <td>0</td>\n",
              "      <td>0</td>\n",
              "      <td>0</td>\n",
              "      <td>0</td>\n",
              "    </tr>\n",
              "    <tr>\n",
              "      <th>3</th>\n",
              "      <td>1</td>\n",
              "      <td>1</td>\n",
              "      <td>2016-04-18 02:22:02</td>\n",
              "      <td>Building Amenities - Garage - Garden - fitness...</td>\n",
              "      <td>East 49th Street</td>\n",
              "      <td>41</td>\n",
              "      <td>-74</td>\n",
              "      <td>3275</td>\n",
              "      <td>333 East 49th Street</td>\n",
              "      <td>low</td>\n",
              "      <td>0</td>\n",
              "      <td>0</td>\n",
              "      <td>1</td>\n",
              "      <td>0</td>\n",
              "      <td>0</td>\n",
              "      <td>0</td>\n",
              "      <td>1</td>\n",
              "      <td>0</td>\n",
              "      <td>0</td>\n",
              "      <td>0</td>\n",
              "      <td>0</td>\n",
              "      <td>0</td>\n",
              "      <td>0</td>\n",
              "      <td>0</td>\n",
              "      <td>0</td>\n",
              "      <td>0</td>\n",
              "      <td>0</td>\n",
              "      <td>0</td>\n",
              "      <td>0</td>\n",
              "      <td>0</td>\n",
              "      <td>0</td>\n",
              "      <td>0</td>\n",
              "      <td>0</td>\n",
              "      <td>0</td>\n",
              "    </tr>\n",
              "    <tr>\n",
              "      <th>4</th>\n",
              "      <td>1</td>\n",
              "      <td>4</td>\n",
              "      <td>2016-04-28 01:32:41</td>\n",
              "      <td>Beautifully renovated 3 bedroom flex 4 bedroom...</td>\n",
              "      <td>West 143rd Street</td>\n",
              "      <td>41</td>\n",
              "      <td>-74</td>\n",
              "      <td>3350</td>\n",
              "      <td>500 West 143rd Street</td>\n",
              "      <td>low</td>\n",
              "      <td>0</td>\n",
              "      <td>0</td>\n",
              "      <td>0</td>\n",
              "      <td>0</td>\n",
              "      <td>0</td>\n",
              "      <td>0</td>\n",
              "      <td>0</td>\n",
              "      <td>0</td>\n",
              "      <td>0</td>\n",
              "      <td>1</td>\n",
              "      <td>0</td>\n",
              "      <td>0</td>\n",
              "      <td>0</td>\n",
              "      <td>0</td>\n",
              "      <td>0</td>\n",
              "      <td>0</td>\n",
              "      <td>0</td>\n",
              "      <td>0</td>\n",
              "      <td>0</td>\n",
              "      <td>0</td>\n",
              "      <td>0</td>\n",
              "      <td>0</td>\n",
              "      <td>0</td>\n",
              "      <td>0</td>\n",
              "    </tr>\n",
              "  </tbody>\n",
              "</table>\n",
              "</div>"
            ],
            "text/plain": [
              "   bathrooms  bedrooms  ... wheelchair_access common_outdoor_space\n",
              "0          2         3  ...                 0                    0\n",
              "1          1         2  ...                 0                    0\n",
              "2          1         1  ...                 0                    0\n",
              "3          1         1  ...                 0                    0\n",
              "4          1         4  ...                 0                    0\n",
              "\n",
              "[5 rows x 34 columns]"
            ]
          },
          "metadata": {
            "tags": []
          },
          "execution_count": 168
        }
      ]
    },
    {
      "cell_type": "code",
      "metadata": {
        "id": "tycwqGMoVgtu",
        "colab_type": "code",
        "colab": {
          "base_uri": "https://localhost:8080/",
          "height": 565
        },
        "outputId": "c2fb41b2-796d-44af-9560-2de5ef89b281"
      },
      "source": [
        "# Wrangle data\n",
        "df = pd.read_csv(DATA_PATH+'apartments/renthop-nyc.csv', \n",
        "                 parse_dates=['created'],\n",
        "                 index_col='created')\n",
        "print(df.shape)\n",
        "df.head()"
      ],
      "execution_count": 169,
      "outputs": [
        {
          "output_type": "stream",
          "text": [
            "(49352, 33)\n"
          ],
          "name": "stdout"
        },
        {
          "output_type": "execute_result",
          "data": {
            "text/html": [
              "<div>\n",
              "<style scoped>\n",
              "    .dataframe tbody tr th:only-of-type {\n",
              "        vertical-align: middle;\n",
              "    }\n",
              "\n",
              "    .dataframe tbody tr th {\n",
              "        vertical-align: top;\n",
              "    }\n",
              "\n",
              "    .dataframe thead th {\n",
              "        text-align: right;\n",
              "    }\n",
              "</style>\n",
              "<table border=\"1\" class=\"dataframe\">\n",
              "  <thead>\n",
              "    <tr style=\"text-align: right;\">\n",
              "      <th></th>\n",
              "      <th>bathrooms</th>\n",
              "      <th>bedrooms</th>\n",
              "      <th>description</th>\n",
              "      <th>display_address</th>\n",
              "      <th>latitude</th>\n",
              "      <th>longitude</th>\n",
              "      <th>price</th>\n",
              "      <th>street_address</th>\n",
              "      <th>interest_level</th>\n",
              "      <th>elevator</th>\n",
              "      <th>cats_allowed</th>\n",
              "      <th>hardwood_floors</th>\n",
              "      <th>dogs_allowed</th>\n",
              "      <th>doorman</th>\n",
              "      <th>dishwasher</th>\n",
              "      <th>no_fee</th>\n",
              "      <th>laundry_in_building</th>\n",
              "      <th>fitness_center</th>\n",
              "      <th>pre-war</th>\n",
              "      <th>laundry_in_unit</th>\n",
              "      <th>roof_deck</th>\n",
              "      <th>outdoor_space</th>\n",
              "      <th>dining_room</th>\n",
              "      <th>high_speed_internet</th>\n",
              "      <th>balcony</th>\n",
              "      <th>swimming_pool</th>\n",
              "      <th>new_construction</th>\n",
              "      <th>terrace</th>\n",
              "      <th>exclusive</th>\n",
              "      <th>loft</th>\n",
              "      <th>garden_patio</th>\n",
              "      <th>wheelchair_access</th>\n",
              "      <th>common_outdoor_space</th>\n",
              "    </tr>\n",
              "    <tr>\n",
              "      <th>created</th>\n",
              "      <th></th>\n",
              "      <th></th>\n",
              "      <th></th>\n",
              "      <th></th>\n",
              "      <th></th>\n",
              "      <th></th>\n",
              "      <th></th>\n",
              "      <th></th>\n",
              "      <th></th>\n",
              "      <th></th>\n",
              "      <th></th>\n",
              "      <th></th>\n",
              "      <th></th>\n",
              "      <th></th>\n",
              "      <th></th>\n",
              "      <th></th>\n",
              "      <th></th>\n",
              "      <th></th>\n",
              "      <th></th>\n",
              "      <th></th>\n",
              "      <th></th>\n",
              "      <th></th>\n",
              "      <th></th>\n",
              "      <th></th>\n",
              "      <th></th>\n",
              "      <th></th>\n",
              "      <th></th>\n",
              "      <th></th>\n",
              "      <th></th>\n",
              "      <th></th>\n",
              "      <th></th>\n",
              "      <th></th>\n",
              "      <th></th>\n",
              "    </tr>\n",
              "  </thead>\n",
              "  <tbody>\n",
              "    <tr>\n",
              "      <th>2016-06-24 07:54:24</th>\n",
              "      <td>2</td>\n",
              "      <td>3</td>\n",
              "      <td>A Brand New 3 Bedroom 1.5 bath ApartmentEnjoy ...</td>\n",
              "      <td>Metropolitan Avenue</td>\n",
              "      <td>41</td>\n",
              "      <td>-74</td>\n",
              "      <td>3000</td>\n",
              "      <td>792 Metropolitan Avenue</td>\n",
              "      <td>medium</td>\n",
              "      <td>0</td>\n",
              "      <td>0</td>\n",
              "      <td>0</td>\n",
              "      <td>0</td>\n",
              "      <td>0</td>\n",
              "      <td>0</td>\n",
              "      <td>0</td>\n",
              "      <td>0</td>\n",
              "      <td>0</td>\n",
              "      <td>0</td>\n",
              "      <td>0</td>\n",
              "      <td>0</td>\n",
              "      <td>0</td>\n",
              "      <td>0</td>\n",
              "      <td>0</td>\n",
              "      <td>0</td>\n",
              "      <td>0</td>\n",
              "      <td>0</td>\n",
              "      <td>0</td>\n",
              "      <td>0</td>\n",
              "      <td>0</td>\n",
              "      <td>0</td>\n",
              "      <td>0</td>\n",
              "      <td>0</td>\n",
              "    </tr>\n",
              "    <tr>\n",
              "      <th>2016-06-12 12:19:27</th>\n",
              "      <td>1</td>\n",
              "      <td>2</td>\n",
              "      <td></td>\n",
              "      <td>Columbus Avenue</td>\n",
              "      <td>41</td>\n",
              "      <td>-74</td>\n",
              "      <td>5465</td>\n",
              "      <td>808 Columbus Avenue</td>\n",
              "      <td>low</td>\n",
              "      <td>1</td>\n",
              "      <td>1</td>\n",
              "      <td>0</td>\n",
              "      <td>1</td>\n",
              "      <td>1</td>\n",
              "      <td>0</td>\n",
              "      <td>0</td>\n",
              "      <td>0</td>\n",
              "      <td>1</td>\n",
              "      <td>0</td>\n",
              "      <td>0</td>\n",
              "      <td>0</td>\n",
              "      <td>0</td>\n",
              "      <td>0</td>\n",
              "      <td>0</td>\n",
              "      <td>0</td>\n",
              "      <td>0</td>\n",
              "      <td>0</td>\n",
              "      <td>0</td>\n",
              "      <td>0</td>\n",
              "      <td>0</td>\n",
              "      <td>0</td>\n",
              "      <td>0</td>\n",
              "      <td>0</td>\n",
              "    </tr>\n",
              "    <tr>\n",
              "      <th>2016-04-17 03:26:41</th>\n",
              "      <td>1</td>\n",
              "      <td>1</td>\n",
              "      <td>Top Top West Village location, beautiful Pre-w...</td>\n",
              "      <td>W 13 Street</td>\n",
              "      <td>41</td>\n",
              "      <td>-74</td>\n",
              "      <td>2850</td>\n",
              "      <td>241 W 13 Street</td>\n",
              "      <td>high</td>\n",
              "      <td>0</td>\n",
              "      <td>0</td>\n",
              "      <td>1</td>\n",
              "      <td>0</td>\n",
              "      <td>0</td>\n",
              "      <td>1</td>\n",
              "      <td>0</td>\n",
              "      <td>1</td>\n",
              "      <td>0</td>\n",
              "      <td>0</td>\n",
              "      <td>0</td>\n",
              "      <td>0</td>\n",
              "      <td>0</td>\n",
              "      <td>0</td>\n",
              "      <td>0</td>\n",
              "      <td>0</td>\n",
              "      <td>0</td>\n",
              "      <td>0</td>\n",
              "      <td>0</td>\n",
              "      <td>0</td>\n",
              "      <td>0</td>\n",
              "      <td>0</td>\n",
              "      <td>0</td>\n",
              "      <td>0</td>\n",
              "    </tr>\n",
              "    <tr>\n",
              "      <th>2016-04-18 02:22:02</th>\n",
              "      <td>1</td>\n",
              "      <td>1</td>\n",
              "      <td>Building Amenities - Garage - Garden - fitness...</td>\n",
              "      <td>East 49th Street</td>\n",
              "      <td>41</td>\n",
              "      <td>-74</td>\n",
              "      <td>3275</td>\n",
              "      <td>333 East 49th Street</td>\n",
              "      <td>low</td>\n",
              "      <td>0</td>\n",
              "      <td>0</td>\n",
              "      <td>1</td>\n",
              "      <td>0</td>\n",
              "      <td>0</td>\n",
              "      <td>0</td>\n",
              "      <td>1</td>\n",
              "      <td>0</td>\n",
              "      <td>0</td>\n",
              "      <td>0</td>\n",
              "      <td>0</td>\n",
              "      <td>0</td>\n",
              "      <td>0</td>\n",
              "      <td>0</td>\n",
              "      <td>0</td>\n",
              "      <td>0</td>\n",
              "      <td>0</td>\n",
              "      <td>0</td>\n",
              "      <td>0</td>\n",
              "      <td>0</td>\n",
              "      <td>0</td>\n",
              "      <td>0</td>\n",
              "      <td>0</td>\n",
              "      <td>0</td>\n",
              "    </tr>\n",
              "    <tr>\n",
              "      <th>2016-04-28 01:32:41</th>\n",
              "      <td>1</td>\n",
              "      <td>4</td>\n",
              "      <td>Beautifully renovated 3 bedroom flex 4 bedroom...</td>\n",
              "      <td>West 143rd Street</td>\n",
              "      <td>41</td>\n",
              "      <td>-74</td>\n",
              "      <td>3350</td>\n",
              "      <td>500 West 143rd Street</td>\n",
              "      <td>low</td>\n",
              "      <td>0</td>\n",
              "      <td>0</td>\n",
              "      <td>0</td>\n",
              "      <td>0</td>\n",
              "      <td>0</td>\n",
              "      <td>0</td>\n",
              "      <td>0</td>\n",
              "      <td>0</td>\n",
              "      <td>0</td>\n",
              "      <td>1</td>\n",
              "      <td>0</td>\n",
              "      <td>0</td>\n",
              "      <td>0</td>\n",
              "      <td>0</td>\n",
              "      <td>0</td>\n",
              "      <td>0</td>\n",
              "      <td>0</td>\n",
              "      <td>0</td>\n",
              "      <td>0</td>\n",
              "      <td>0</td>\n",
              "      <td>0</td>\n",
              "      <td>0</td>\n",
              "      <td>0</td>\n",
              "      <td>0</td>\n",
              "    </tr>\n",
              "  </tbody>\n",
              "</table>\n",
              "</div>"
            ],
            "text/plain": [
              "                     bathrooms  ...  common_outdoor_space\n",
              "created                         ...                      \n",
              "2016-06-24 07:54:24          2  ...                     0\n",
              "2016-06-12 12:19:27          1  ...                     0\n",
              "2016-04-17 03:26:41          1  ...                     0\n",
              "2016-04-18 02:22:02          1  ...                     0\n",
              "2016-04-28 01:32:41          1  ...                     0\n",
              "\n",
              "[5 rows x 33 columns]"
            ]
          },
          "metadata": {
            "tags": []
          },
          "execution_count": 169
        }
      ]
    },
    {
      "cell_type": "code",
      "metadata": {
        "id": "9qjI4YtwacdM",
        "colab_type": "code",
        "colab": {
          "base_uri": "https://localhost:8080/",
          "height": 711
        },
        "outputId": "ffb21fb1-78d5-47d3-9037-73ddd48ccdec"
      },
      "source": [
        "df.info()"
      ],
      "execution_count": 170,
      "outputs": [
        {
          "output_type": "stream",
          "text": [
            "<class 'pandas.core.frame.DataFrame'>\n",
            "DatetimeIndex: 49352 entries, 2016-06-24 07:54:24 to 2016-04-12 02:48:07\n",
            "Data columns (total 33 columns):\n",
            " #   Column                Non-Null Count  Dtype  \n",
            "---  ------                --------------  -----  \n",
            " 0   bathrooms             49352 non-null  float64\n",
            " 1   bedrooms              49352 non-null  int64  \n",
            " 2   description           47906 non-null  object \n",
            " 3   display_address       49217 non-null  object \n",
            " 4   latitude              49352 non-null  float64\n",
            " 5   longitude             49352 non-null  float64\n",
            " 6   price                 49352 non-null  int64  \n",
            " 7   street_address        49342 non-null  object \n",
            " 8   interest_level        49352 non-null  object \n",
            " 9   elevator              49352 non-null  int64  \n",
            " 10  cats_allowed          49352 non-null  int64  \n",
            " 11  hardwood_floors       49352 non-null  int64  \n",
            " 12  dogs_allowed          49352 non-null  int64  \n",
            " 13  doorman               49352 non-null  int64  \n",
            " 14  dishwasher            49352 non-null  int64  \n",
            " 15  no_fee                49352 non-null  int64  \n",
            " 16  laundry_in_building   49352 non-null  int64  \n",
            " 17  fitness_center        49352 non-null  int64  \n",
            " 18  pre-war               49352 non-null  int64  \n",
            " 19  laundry_in_unit       49352 non-null  int64  \n",
            " 20  roof_deck             49352 non-null  int64  \n",
            " 21  outdoor_space         49352 non-null  int64  \n",
            " 22  dining_room           49352 non-null  int64  \n",
            " 23  high_speed_internet   49352 non-null  int64  \n",
            " 24  balcony               49352 non-null  int64  \n",
            " 25  swimming_pool         49352 non-null  int64  \n",
            " 26  new_construction      49352 non-null  int64  \n",
            " 27  terrace               49352 non-null  int64  \n",
            " 28  exclusive             49352 non-null  int64  \n",
            " 29  loft                  49352 non-null  int64  \n",
            " 30  garden_patio          49352 non-null  int64  \n",
            " 31  wheelchair_access     49352 non-null  int64  \n",
            " 32  common_outdoor_space  49352 non-null  int64  \n",
            "dtypes: float64(3), int64(26), object(4)\n",
            "memory usage: 12.8+ MB\n"
          ],
          "name": "stdout"
        }
      ]
    },
    {
      "cell_type": "code",
      "metadata": {
        "id": "wRH8B4H8vu43",
        "colab_type": "code",
        "colab": {
          "base_uri": "https://localhost:8080/",
          "height": 607
        },
        "outputId": "73394d18-f39e-42de-8b94-ba85b78fc6d7"
      },
      "source": [
        " df.dtypes"
      ],
      "execution_count": 171,
      "outputs": [
        {
          "output_type": "execute_result",
          "data": {
            "text/plain": [
              "bathrooms               float64\n",
              "bedrooms                  int64\n",
              "description              object\n",
              "display_address          object\n",
              "latitude                float64\n",
              "longitude               float64\n",
              "price                     int64\n",
              "street_address           object\n",
              "interest_level           object\n",
              "elevator                  int64\n",
              "cats_allowed              int64\n",
              "hardwood_floors           int64\n",
              "dogs_allowed              int64\n",
              "doorman                   int64\n",
              "dishwasher                int64\n",
              "no_fee                    int64\n",
              "laundry_in_building       int64\n",
              "fitness_center            int64\n",
              "pre-war                   int64\n",
              "laundry_in_unit           int64\n",
              "roof_deck                 int64\n",
              "outdoor_space             int64\n",
              "dining_room               int64\n",
              "high_speed_internet       int64\n",
              "balcony                   int64\n",
              "swimming_pool             int64\n",
              "new_construction          int64\n",
              "terrace                   int64\n",
              "exclusive                 int64\n",
              "loft                      int64\n",
              "garden_patio              int64\n",
              "wheelchair_access         int64\n",
              "common_outdoor_space      int64\n",
              "dtype: object"
            ]
          },
          "metadata": {
            "tags": []
          },
          "execution_count": 171
        }
      ]
    },
    {
      "cell_type": "markdown",
      "metadata": {
        "id": "YiGHi8aOYKAT",
        "colab_type": "text"
      },
      "source": [
        "## EDA"
      ]
    },
    {
      "cell_type": "code",
      "metadata": {
        "id": "rme3K1sIYIEt",
        "colab_type": "code",
        "colab": {}
      },
      "source": [
        "pd.options.display.float_format = '{:,.0f}'.format"
      ],
      "execution_count": 11,
      "outputs": []
    },
    {
      "cell_type": "code",
      "metadata": {
        "id": "1PZQIy5022ZS",
        "colab_type": "code",
        "colab": {
          "base_uri": "https://localhost:8080/",
          "height": 278
        },
        "outputId": "1b17ed17-4be7-4d09-c00b-b322750e1e95"
      },
      "source": [
        " df['price'].plot(kind='hist');"
      ],
      "execution_count": 12,
      "outputs": [
        {
          "output_type": "display_data",
          "data": {
            "image/png": "[encoded data removed]",
            "text/plain": [
              "<Figure size 432x288 with 1 Axes>"
            ]
          },
          "metadata": {
            "tags": [],
            "needs_background": "light"
          }
        }
      ]
    },
    {
      "cell_type": "code",
      "metadata": {
        "id": "9EXexuuSZDYW",
        "colab_type": "code",
        "colab": {
          "base_uri": "https://localhost:8080/",
          "height": 173
        },
        "outputId": "5fef0a85-8472-4f43-abe6-a723281de682"
      },
      "source": [
        "df.describe()['price']"
      ],
      "execution_count": 13,
      "outputs": [
        {
          "output_type": "execute_result",
          "data": {
            "text/plain": [
              "count      49,352\n",
              "mean        3,830\n",
              "std        22,067\n",
              "min            43\n",
              "25%         2,500\n",
              "50%         3,150\n",
              "75%         4,100\n",
              "max     4,490,000\n",
              "Name: price, dtype: float64"
            ]
          },
          "metadata": {
            "tags": []
          },
          "execution_count": 13
        }
      ]
    },
    {
      "cell_type": "code",
      "metadata": {
        "id": "GmDPNqmgZeGU",
        "colab_type": "code",
        "colab": {
          "base_uri": "https://localhost:8080/",
          "height": 265
        },
        "outputId": "55147dfb-7bf9-44a4-fd44-373398b1e885"
      },
      "source": [
        "df['bathrooms'].plot(kind='hist');"
      ],
      "execution_count": 14,
      "outputs": [
        {
          "output_type": "display_data",
          "data": {
            "image/png": "[encoded data removed]",
            "text/plain": [
              "<Figure size 432x288 with 1 Axes>"
            ]
          },
          "metadata": {
            "tags": [],
            "needs_background": "light"
          }
        }
      ]
    },
    {
      "cell_type": "code",
      "metadata": {
        "id": "l3ameZZuaCsL",
        "colab_type": "code",
        "colab": {
          "base_uri": "https://localhost:8080/",
          "height": 87
        },
        "outputId": "76729013-0539-47f2-a426-8284964ef28c"
      },
      "source": [
        "df['interest_level'].value_counts()"
      ],
      "execution_count": 15,
      "outputs": [
        {
          "output_type": "execute_result",
          "data": {
            "text/plain": [
              "low       34284\n",
              "medium    11229\n",
              "high       3839\n",
              "Name: interest_level, dtype: int64"
            ]
          },
          "metadata": {
            "tags": []
          },
          "execution_count": 15
        }
      ]
    },
    {
      "cell_type": "markdown",
      "metadata": {
        "id": "C-AfkxbCbV-P",
        "colab_type": "text"
      },
      "source": [
        "## Split the data"
      ]
    },
    {
      "cell_type": "code",
      "metadata": {
        "id": "66ZxGTuDbCw1",
        "colab_type": "code",
        "colab": {}
      },
      "source": [
        "# Split my feature matrix from my target vector\n",
        "# Target\n",
        "y = df['price']\n",
        "# Feature Matrix\n",
        "X = df[['bathrooms']]"
      ],
      "execution_count": 172,
      "outputs": []
    },
    {
      "cell_type": "code",
      "metadata": {
        "id": "u82ii59Pc0p2",
        "colab_type": "code",
        "colab": {
          "base_uri": "https://localhost:8080/",
          "height": 290
        },
        "outputId": "4acf2fed-ddfc-4fe7-9165-56a0de925697"
      },
      "source": [
        "plt.scatter(df['bathrooms'], df['price']);\n",
        "plt.xlabel('bathrooms')\n",
        "plt.ylabel('price')\n",
        "plt.show()"
      ],
      "execution_count": 175,
      "outputs": [
        {
          "output_type": "display_data",
          "data": {
            "image/png": "[encoded data removed]",
            "text/plain": [
              "<Figure size 432x288 with 1 Axes>"
            ]
          },
          "metadata": {
            "tags": [],
            "needs_background": "light"
          }
        }
      ]
    },
    {
      "cell_type": "markdown",
      "metadata": {
        "id": "fPZCttAZecJ0",
        "colab_type": "text"
      },
      "source": [
        "## Train-validation split\n"
      ]
    },
    {
      "cell_type": "code",
      "metadata": {
        "id": "jQHSxpyGd9Vo",
        "colab_type": "code",
        "colab": {}
      },
      "source": [
        "# We can do split randomly. However, sometimes when we're working with time series, we need to split by using a cutoff date\n",
        "\n",
        "cutoff_date = '2016-04-17 03:26:41'\n",
        "mask = X.index < cutoff_date\n",
        "X_train, y_train = X.loc[mask], y.loc[mask]\n",
        "X_test, y_test = X.loc[~mask], y.loc[~mask]"
      ],
      "execution_count": 176,
      "outputs": []
    },
    {
      "cell_type": "markdown",
      "metadata": {
        "id": "a2aotTlYflw4",
        "colab_type": "text"
      },
      "source": [
        "## Establish Baseline"
      ]
    },
    {
      "cell_type": "code",
      "metadata": {
        "id": "asECQL0Dfe4Y",
        "colab_type": "code",
        "colab": {
          "base_uri": "https://localhost:8080/",
          "height": 243
        },
        "outputId": "33e5819d-57a6-4c0d-ef6a-6f01a765027b"
      },
      "source": [
        "y_train"
      ],
      "execution_count": 177,
      "outputs": [
        {
          "output_type": "execute_result",
          "data": {
            "text/plain": [
              "created\n",
              "2016-04-13 06:01:42    5645\n",
              "2016-04-02 02:58:15    5800\n",
              "2016-04-14 01:10:30    1950\n",
              "2016-04-09 01:22:11    6895\n",
              "2016-04-09 03:49:42    3973\n",
              "                       ... \n",
              "2016-04-11 03:29:05    2179\n",
              "2016-04-04 18:22:34    3950\n",
              "2016-04-16 02:13:40    2595\n",
              "2016-04-08 02:13:33    3350\n",
              "2016-04-12 02:48:07    2200\n",
              "Name: price, Length: 8986, dtype: int64"
            ]
          },
          "metadata": {
            "tags": []
          },
          "execution_count": 177
        }
      ]
    },
    {
      "cell_type": "code",
      "metadata": {
        "id": "BFki4oiOf9Vo",
        "colab_type": "code",
        "colab": {
          "base_uri": "https://localhost:8080/",
          "height": 265
        },
        "outputId": "2a406f6f-c4b4-43bc-bc2e-45561b0cca1d"
      },
      "source": [
        "y_train.plot(kind='hist');"
      ],
      "execution_count": 178,
      "outputs": [
        {
          "output_type": "display_data",
          "data": {
            "image/png": "[encoded data removed]",
            "text/plain": [
              "<Figure size 432x288 with 1 Axes>"
            ]
          },
          "metadata": {
            "tags": [],
            "needs_background": "light"
          }
        }
      ]
    },
    {
      "cell_type": "code",
      "metadata": {
        "id": "aVogY2Q1ll-8",
        "colab_type": "code",
        "colab": {
          "base_uri": "https://localhost:8080/",
          "height": 52
        },
        "outputId": "6be5db6b-ed0c-422e-c6f3-347a1d56bce4"
      },
      "source": [
        "baseline_guess = y_train.mean()\n",
        "\n",
        "MAE = abs(y_train - baseline_guess).mean()\n",
        "\n",
        "print(f'''If my baseline model always predicts {baseline_guess}, \n",
        "on average, the prediction will be off by {MAE}.''')"
      ],
      "execution_count": 179,
      "outputs": [
        {
          "output_type": "stream",
          "text": [
            "If my baseline model always predicts 3637.4829735143558, \n",
            "on average, the prediction will be off by 1348.030689428588.\n"
          ],
          "name": "stdout"
        }
      ]
    },
    {
      "cell_type": "markdown",
      "metadata": {
        "id": "sNDQ1qNslyXx",
        "colab_type": "text"
      },
      "source": [
        "## Build My Model"
      ]
    },
    {
      "cell_type": "code",
      "metadata": {
        "id": "aXNIFz_Irnko",
        "colab_type": "code",
        "colab": {}
      },
      "source": [
        "# 1. Arrange X features matrix and y target vector\n",
        "y= df['price']\n",
        "X= df[['bathrooms']]"
      ],
      "execution_count": 180,
      "outputs": []
    },
    {
      "cell_type": "code",
      "metadata": {
        "id": "cDNHmk-KJSLl",
        "colab_type": "code",
        "colab": {}
      },
      "source": [
        "# 2. Creating a train_test split\n",
        "from sklearn.linear_model import LinearRegression\n",
        "X_train, X_test, y_train, y_test = train_test_split(X, y, test_size=0.2, random_state=42)"
      ],
      "execution_count": null,
      "outputs": []
    },
    {
      "cell_type": "code",
      "metadata": {
        "id": "dR_87P5Dlwss",
        "colab_type": "code",
        "colab": {}
      },
      "source": [
        "# 3. Import the appropriate estimtor class from Scikit-learn\n",
        "from sklearn.linear_model import LinearRegression"
      ],
      "execution_count": 182,
      "outputs": []
    },
    {
      "cell_type": "code",
      "metadata": {
        "id": "i3m18AZLlsaO",
        "colab_type": "code",
        "colab": {}
      },
      "source": [
        "# 4. Instantiate your predictor\n",
        "lr = LinearRegression();"
      ],
      "execution_count": 183,
      "outputs": []
    },
    {
      "cell_type": "code",
      "metadata": {
        "id": "10M3h2hXwQK4",
        "colab_type": "code",
        "colab": {}
      },
      "source": [
        "# Arrange X features matrix and y target vector\n",
        "y= df['price']\n",
        "X= df[['bathrooms']]"
      ],
      "execution_count": 185,
      "outputs": []
    },
    {
      "cell_type": "code",
      "metadata": {
        "id": "4O_wGbqjpWJj",
        "colab_type": "code",
        "colab": {}
      },
      "source": [
        "# 5. Fit the model which is train my predictor by using the training data\n",
        "lr.fit(X_train,y_train);"
      ],
      "execution_count": 186,
      "outputs": []
    },
    {
      "cell_type": "code",
      "metadata": {
        "id": "yJygVCrCtd5A",
        "colab_type": "code",
        "colab": {}
      },
      "source": [
        "# 6. Apply the model to the new data which is testing data\n",
        "from sklearn.metrics import mean_absolute_error"
      ],
      "execution_count": 187,
      "outputs": []
    },
    {
      "cell_type": "code",
      "metadata": {
        "id": "mA00wZIVtwin",
        "colab_type": "code",
        "colab": {
          "base_uri": "https://localhost:8080/",
          "height": 52
        },
        "outputId": "af09e20e-1310-4074-b7b7-f06150216540"
      },
      "source": [
        "# Comparing my matrixes\n",
        "print('Training MAE:', mean_absolute_error(y_train, lr.predict(X_train)))\n",
        "print('Testing MAE:', mean_absolute_error(y_test, lr.predict(X_test)))"
      ],
      "execution_count": 188,
      "outputs": [
        {
          "output_type": "stream",
          "text": [
            "Training MAE: 1026.968608912097\n",
            "Testing MAE: 1179.7147892532575\n"
          ],
          "name": "stdout"
        }
      ]
    },
    {
      "cell_type": "code",
      "metadata": {
        "id": "wDXlP1dVmlB7",
        "colab_type": "code",
        "colab": {
          "base_uri": "https://localhost:8080/",
          "height": 35
        },
        "outputId": "f841cb7e-69f9-49ca-c228-35e31c8b7ce9"
      },
      "source": [
        "lr.coef_"
      ],
      "execution_count": 191,
      "outputs": [
        {
          "output_type": "execute_result",
          "data": {
            "text/plain": [
              "array([3358.94852821])"
            ]
          },
          "metadata": {
            "tags": []
          },
          "execution_count": 191
        }
      ]
    },
    {
      "cell_type": "code",
      "metadata": {
        "id": "yLozX668ml57",
        "colab_type": "code",
        "colab": {
          "base_uri": "https://localhost:8080/",
          "height": 35
        },
        "outputId": "7918a34e-8d2d-4c39-e7e5-8563449e7706"
      },
      "source": [
        "lr.intercept_"
      ],
      "execution_count": 192,
      "outputs": [
        {
          "output_type": "execute_result",
          "data": {
            "text/plain": [
              "-403.45994483020013"
            ]
          },
          "metadata": {
            "tags": []
          },
          "execution_count": 192
        }
      ]
    },
    {
      "cell_type": "code",
      "metadata": {
        "id": "2jp0jo3XA9KR",
        "colab_type": "code",
        "colab": {
          "base_uri": "https://localhost:8080/",
          "height": 52
        },
        "outputId": "78e0c8d0-5e00-4579-bc19-65f06a0a4015"
      },
      "source": [
        "# Explain the coeffician\n",
        "def predict(bathrooms):\n",
        "    y_pred = lr.predict([[bathrooms]])\n",
        "    estimate = y_pred[0]\n",
        "    coefficient = lr.coef_[0]\n",
        "    result = f'${estimate:,.0f} estimated bedrooms for {bathrooms:,.0f} bathroom in apartment.'\n",
        "    explanation = f'In this linear regression, each additional bathroom adds ${coefficient:,.0f}.'\n",
        "    return result + '\\n' + explanation\n",
        "\n",
        "print(predict(1497))"
      ],
      "execution_count": 193,
      "outputs": [
        {
          "output_type": "stream",
          "text": [
            "$5,027,942 estimated bedrooms for 1,497 bathroom in apartment.\n",
            "In this linear regression, each additional bathroom adds $3,359.\n"
          ],
          "name": "stdout"
        }
      ]
    },
    {
      "cell_type": "markdown",
      "metadata": {
        "id": "Qu_o_OpqGonR",
        "colab_type": "text"
      },
      "source": [
        "## Stretch Goals\n",
        "[ ] Do linear regression with two or more features.\n",
        "\n",
        "[ ] Read The Discovery of Statistical Regression\n",
        "\n",
        "[ ] Read An Introduction to Statistical Learning, Chapter 2.1: What Is Statistical Learning?"
      ]
    },
    {
      "cell_type": "code",
      "metadata": {
        "id": "lqlmlZmRHdE6",
        "colab_type": "code",
        "colab": {}
      },
      "source": [
        "y= df['price']\n",
        "\n",
        "X = df[['bathrooms','longitude']]               "
      ],
      "execution_count": 198,
      "outputs": []
    },
    {
      "cell_type": "code",
      "metadata": {
        "id": "t77vCmVVn9Sa",
        "colab_type": "code",
        "colab": {}
      },
      "source": [
        "# Split our dataset into training and validation sets\n",
        "\n",
        "cutoff = '2016-04-17 03:26:41'\n",
        "mask = X.index < '2016-04-17 03:26:41'\n",
        "X_train, y_train = X.loc[mask], y.loc[mask]\n",
        "X_val, y_val = X.loc[~mask], y.loc[~mask]"
      ],
      "execution_count": 199,
      "outputs": []
    },
    {
      "cell_type": "code",
      "metadata": {
        "id": "1jz9c8gEMYaX",
        "colab_type": "code",
        "colab": {
          "base_uri": "https://localhost:8080/",
          "height": 243
        },
        "outputId": "1091aebe-6ae9-41c1-e71c-422cf3e7bafc"
      },
      "source": [
        "y_train"
      ],
      "execution_count": 200,
      "outputs": [
        {
          "output_type": "execute_result",
          "data": {
            "text/plain": [
              "created\n",
              "2016-04-13 06:01:42    5645\n",
              "2016-04-02 02:58:15    5800\n",
              "2016-04-14 01:10:30    1950\n",
              "2016-04-09 01:22:11    6895\n",
              "2016-04-09 03:49:42    3973\n",
              "                       ... \n",
              "2016-04-11 03:29:05    2179\n",
              "2016-04-04 18:22:34    3950\n",
              "2016-04-16 02:13:40    2595\n",
              "2016-04-08 02:13:33    3350\n",
              "2016-04-12 02:48:07    2200\n",
              "Name: price, Length: 8986, dtype: int64"
            ]
          },
          "metadata": {
            "tags": []
          },
          "execution_count": 200
        }
      ]
    },
    {
      "cell_type": "code",
      "metadata": {
        "id": "pCeJ8egTMoaI",
        "colab_type": "code",
        "colab": {
          "base_uri": "https://localhost:8080/",
          "height": 265
        },
        "outputId": "9753e0db-f06a-4641-a34c-9b9b66998305"
      },
      "source": [
        "y_train.plot(kind='hist');"
      ],
      "execution_count": 201,
      "outputs": [
        {
          "output_type": "display_data",
          "data": {
            "image/png": "[encoded data removed]",
            "text/plain": [
              "<Figure size 432x288 with 1 Axes>"
            ]
          },
          "metadata": {
            "tags": [],
            "needs_background": "light"
          }
        }
      ]
    },
    {
      "cell_type": "code",
      "metadata": {
        "id": "9gtF_mz5NLt2",
        "colab_type": "code",
        "colab": {
          "base_uri": "https://localhost:8080/",
          "height": 265
        },
        "outputId": "9f18a152-e9d0-4dd5-c3d3-3de564d3c094"
      },
      "source": [
        "X_train.plot(kind='hist');"
      ],
      "execution_count": 202,
      "outputs": [
        {
          "output_type": "display_data",
          "data": {
            "image/png": "[encoded data removed]",
            "text/plain": [
              "<Figure size 432x288 with 1 Axes>"
            ]
          },
          "metadata": {
            "tags": [],
            "needs_background": "light"
          }
        }
      ]
    },
    {
      "cell_type": "code",
      "metadata": {
        "id": "9dtQeOmvNVqy",
        "colab_type": "code",
        "colab": {
          "base_uri": "https://localhost:8080/",
          "height": 35
        },
        "outputId": "ad5006f8-4c92-4d9f-b11f-92a396631618"
      },
      "source": [
        "def baseline_predict(X=None):\n",
        "  return y_train.mean()\n",
        "\n",
        "baseline_predict()"
      ],
      "execution_count": 206,
      "outputs": [
        {
          "output_type": "execute_result",
          "data": {
            "text/plain": [
              "3637.4829735143558"
            ]
          },
          "metadata": {
            "tags": []
          },
          "execution_count": 206
        }
      ]
    },
    {
      "cell_type": "code",
      "metadata": {
        "id": "dgjNtJIFpLlx",
        "colab_type": "code",
        "colab": {
          "base_uri": "https://localhost:8080/",
          "height": 281
        },
        "outputId": "9e65cc85-7258-4e58-dbb8-f9686c549b28"
      },
      "source": [
        "import numpy as np\n",
        "\n",
        "col = 'longitude'\n",
        "x_min, x_max = X_train[col].min(), X_train[col].max()\n",
        "x_coords = np.linspace(x_min, x_max, 50)\n",
        "y_pred = [baseline_predict(x) for x in x_coords]\n",
        "plt.plot(x_coords, y_pred, color='red', label='basline model')\n",
        "\n",
        "plt.scatter(X_train[col], y_train)\n",
        "plt.xlabel('longitude')\n",
        "plt.ylabel('price')\n",
        "plt.legend()\n",
        "plt.show();"
      ],
      "execution_count": 207,
      "outputs": [
        {
          "output_type": "display_data",
          "data": {
            "image/png": "[encoded data removed]",
            "text/plain": [
              "<Figure size 432x288 with 1 Axes>"
            ]
          },
          "metadata": {
            "tags": [],
            "needs_background": "light"
          }
        }
      ]
    },
    {
      "cell_type": "code",
      "metadata": {
        "id": "f_UD-MstpeUf",
        "colab_type": "code",
        "colab": {
          "base_uri": "https://localhost:8080/",
          "height": 52
        },
        "outputId": "85b71708-d4a4-48f0-f195-eb9f84645dff"
      },
      "source": [
        "from sklearn.metrics import mean_absolute_error, mean_squared_error, r2_score\n",
        "\n",
        "baseline_mae = mean_absolute_error(y_train, [y_train.mean()]*len(y_train))\n",
        "baseline_rmse = mean_squared_error(y_train, [y_train.mean()]*len(y_train), squared=False)\n",
        "\n",
        "print('Baseline MAE:', baseline_mae)\n",
        "print('Baseline RMSE:', baseline_rmse)"
      ],
      "execution_count": 208,
      "outputs": [
        {
          "output_type": "stream",
          "text": [
            "Baseline MAE: 1348.0306894286532\n",
            "Baseline RMSE: 3143.8352947907033\n"
          ],
          "name": "stdout"
        }
      ]
    },
    {
      "cell_type": "code",
      "metadata": {
        "id": "8x7dHRR6OL7v",
        "colab_type": "code",
        "colab": {}
      },
      "source": [
        "# Build the model\n",
        "# 1. Arrange X features matrix and y target vector\n",
        "y= df['price']\n",
        "\n",
        "X = df[['bathrooms','longitude']]       "
      ],
      "execution_count": 210,
      "outputs": []
    },
    {
      "cell_type": "code",
      "metadata": {
        "id": "TXYivfVdh8zc",
        "colab_type": "code",
        "colab": {}
      },
      "source": [
        "# 2. Creating a train_test split\n",
        "from sklearn.linear_model import LinearRegression\n",
        "X1_train,X2_train, X1_test,X2_test, y1_train, y2_train, y1_test, y2_test, = train_test_split(X1, X2, y1, y2, test_size=0.2, random_state=42)"
      ],
      "execution_count": null,
      "outputs": []
    },
    {
      "cell_type": "code",
      "metadata": {
        "id": "104ZYw0HO7Qk",
        "colab_type": "code",
        "colab": {}
      },
      "source": [
        "# 3. Import the appropriate estimtor class from Scikit-learn\n",
        "from sklearn.linear_model import LinearRegression"
      ],
      "execution_count": 211,
      "outputs": []
    },
    {
      "cell_type": "code",
      "metadata": {
        "id": "RVEsuIecO7Km",
        "colab_type": "code",
        "colab": {}
      },
      "source": [
        "# 4. Instantiate your predictor\n",
        "model = LinearRegression();"
      ],
      "execution_count": 212,
      "outputs": []
    },
    {
      "cell_type": "code",
      "metadata": {
        "id": "XWQaJo4hPw3a",
        "colab_type": "code",
        "colab": {}
      },
      "source": [
        "# Build the model\n",
        "# 1. Arrange X features matrix and y target vector\n",
        "y= df['price']\n",
        "\n",
        "X = df[['bathrooms','longitude']]       "
      ],
      "execution_count": 213,
      "outputs": []
    },
    {
      "cell_type": "code",
      "metadata": {
        "id": "e5Hzxb4CPws6",
        "colab_type": "code",
        "colab": {}
      },
      "source": [
        "# 5. Fit the model which is train my predictor by using the training data\n",
        "model.fit(X_train, y_train);"
      ],
      "execution_count": 214,
      "outputs": []
    },
    {
      "cell_type": "code",
      "metadata": {
        "id": "dI6Jlzvsqdgf",
        "colab_type": "code",
        "colab": {
          "base_uri": "https://localhost:8080/",
          "height": 69
        },
        "outputId": "f0342092-ac1b-4705-99ae-0a17d5fc34da"
      },
      "source": [
        "# Checking our metrics for the TRAINING DATA\n",
        "y_pred = model.predict(X_train)\n",
        "\n",
        "model_mae = mean_absolute_error(y_train, y_pred)\n",
        "model_rmse = mean_squared_error(y_train, y_pred, squared=False)\n",
        "model_r2 = r2_score(y_train, y_pred)\n",
        "\n",
        "print('Model MAE (training data):', model_mae)\n",
        "print('Model RMSE (training data):', model_rmse)\n",
        "print('Model R^2 (training data):', model_r2)"
      ],
      "execution_count": 215,
      "outputs": [
        {
          "output_type": "stream",
          "text": [
            "Model MAE (training data): 1021.4389716614446\n",
            "Model RMSE (training data): 2662.76143627449\n",
            "Model R^2 (training data): 0.2826271327840061\n"
          ],
          "name": "stdout"
        }
      ]
    },
    {
      "cell_type": "code",
      "metadata": {
        "id": "hJjbElezqkb-",
        "colab_type": "code",
        "colab": {
          "base_uri": "https://localhost:8080/",
          "height": 69
        },
        "outputId": "3afbb9da-dbac-406d-a431-b64b75d5c0f3"
      },
      "source": [
        "y_pred = model.predict(X_val)\n",
        "\n",
        "model_mae = mean_absolute_error(y_val, y_pred)\n",
        "model_rmse = mean_squared_error(y_val, y_pred, squared=False)\n",
        "model_r2 = r2_score(y_val, y_pred)\n",
        "\n",
        "print('Model MAE (validation data):', model_mae)\n",
        "print('Model RMSE (validation data):', model_rmse)\n",
        "print('Model R^2 (validation data):', model_r2)"
      ],
      "execution_count": 216,
      "outputs": [
        {
          "output_type": "stream",
          "text": [
            "Model MAE (validation data): 1190.2363579957657\n",
            "Model RMSE (validation data): 24326.71584193392\n",
            "Model R^2 (validation data): 0.002252033567417877\n"
          ],
          "name": "stdout"
        }
      ]
    },
    {
      "cell_type": "code",
      "metadata": {
        "id": "nKKkX-RzQNWR",
        "colab_type": "code",
        "colab": {
          "base_uri": "https://localhost:8080/",
          "height": 35
        },
        "outputId": "44e8f45d-3010-4897-fb13-1ea5cb96ac04"
      },
      "source": [
        "lr.coef_"
      ],
      "execution_count": 217,
      "outputs": [
        {
          "output_type": "execute_result",
          "data": {
            "text/plain": [
              "array([3358.94852821])"
            ]
          },
          "metadata": {
            "tags": []
          },
          "execution_count": 217
        }
      ]
    },
    {
      "cell_type": "code",
      "metadata": {
        "id": "FqNZmHDVQroB",
        "colab_type": "code",
        "colab": {
          "base_uri": "https://localhost:8080/",
          "height": 35
        },
        "outputId": "c9d36e44-df28-450f-c0ec-9e48b0a153bb"
      },
      "source": [
        "lr.intercept_"
      ],
      "execution_count": 218,
      "outputs": [
        {
          "output_type": "execute_result",
          "data": {
            "text/plain": [
              "-403.45994483020013"
            ]
          },
          "metadata": {
            "tags": []
          },
          "execution_count": 218
        }
      ]
    }
  ]
}